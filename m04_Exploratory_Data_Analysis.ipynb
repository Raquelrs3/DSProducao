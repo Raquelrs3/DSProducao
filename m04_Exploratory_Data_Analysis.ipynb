{
 "cells": [
  {
   "cell_type": "markdown",
   "id": "87797ef8",
   "metadata": {},
   "source": [
    "# 0.0 Imports"
   ]
  },
  {
   "cell_type": "code",
   "execution_count": 1,
   "id": "fd5e2ee3",
   "metadata": {},
   "outputs": [
    {
     "data": {
      "text/plain": [
       "'1.3.4'"
      ]
     },
     "execution_count": 1,
     "metadata": {},
     "output_type": "execute_result"
    }
   ],
   "source": [
    "import math\n",
    "import inflection\n",
    "import pandas as pd\n",
    "import numpy as np\n",
    "import seaborn as sns\n",
    "from matplotlib import pyplot as plt\n",
    "import matplotlib.gridspec as gridspec\n",
    "\n",
    "from IPython.core.display import HTML\n",
    "from IPython.display import Image\n",
    "\n",
    "import datetime\n",
    "\n",
    "from scipy import stats as ss\n",
    "\n",
    "pd.__version__"
   ]
  },
  {
   "cell_type": "markdown",
   "id": "e825619d",
   "metadata": {},
   "source": [
    "## 0.1 Helper Functions"
   ]
  },
  {
   "cell_type": "markdown",
   "id": "d7bf19e5",
   "metadata": {},
   "source": [
    "## 0.2 Loading Data"
   ]
  },
  {
   "cell_type": "code",
   "execution_count": 2,
   "id": "b57fb7bc",
   "metadata": {},
   "outputs": [],
   "source": [
    "# Raw seria a marcação de arquivo que não foi limpo ainda (acabou de ler)\n",
    "df_sales_raw = pd.read_csv(\"train.csv\",low_memory = False)\n",
    "df_store_raw = pd.read_csv(\"store.csv\",low_memory = False)"
   ]
  },
  {
   "cell_type": "code",
   "execution_count": 3,
   "id": "0b4e48fe",
   "metadata": {},
   "outputs": [],
   "source": [
    "# Merge (método da classe pandas) 1arg- documento que será referencia 2arg- arquivo que será anexado how:como fará e on a coluna em comum\n",
    "df_raw = pd.merge(df_sales_raw, df_store_raw, how=\"left\", on=\"Store\")"
   ]
  },
  {
   "cell_type": "markdown",
   "id": "91ab5d83",
   "metadata": {},
   "source": [
    "# 1.0 Descrição dos Dados (Passo 1)"
   ]
  },
  {
   "cell_type": "code",
   "execution_count": 4,
   "id": "cfc58d65",
   "metadata": {},
   "outputs": [],
   "source": [
    "#fazer cópia dos dados, para não usar em cima do original\n",
    "df1 = df_raw.copy()"
   ]
  },
  {
   "cell_type": "code",
   "execution_count": 5,
   "id": "7a1badaa",
   "metadata": {
    "scrolled": true
   },
   "outputs": [
    {
     "data": {
      "text/plain": [
       "Index(['Store', 'DayOfWeek', 'Date', 'Sales', 'Customers', 'Open', 'Promo',\n",
       "       'StateHoliday', 'SchoolHoliday', 'StoreType', 'Assortment',\n",
       "       'CompetitionDistance', 'CompetitionOpenSinceMonth',\n",
       "       'CompetitionOpenSinceYear', 'Promo2', 'Promo2SinceWeek',\n",
       "       'Promo2SinceYear', 'PromoInterval'],\n",
       "      dtype='object')"
      ]
     },
     "execution_count": 5,
     "metadata": {},
     "output_type": "execute_result"
    }
   ],
   "source": [
    "df_raw.columns"
   ]
  },
  {
   "cell_type": "markdown",
   "id": "ced5de80",
   "metadata": {},
   "source": [
    "## 1.1 Rename Columns"
   ]
  },
  {
   "cell_type": "code",
   "execution_count": 6,
   "id": "901fc696",
   "metadata": {},
   "outputs": [],
   "source": [
    "cols_old = ['Store', 'DayOfWeek', 'Date', 'Sales', 'Customers', 'Open', 'Promo',\n",
    "       'StateHoliday', 'SchoolHoliday', 'StoreType', 'Assortment',\n",
    "       'CompetitionDistance', 'CompetitionOpenSinceMonth',\n",
    "       'CompetitionOpenSinceYear', 'Promo2', 'Promo2SinceWeek',\n",
    "       'Promo2SinceYear', 'PromoInterval']\n",
    "\n",
    "# função para deixar a lista em minúsculo e em snakecase(_)\n",
    "snakecase = lambda x: inflection.underscore (x)\n",
    "cols_new = list(map(snakecase, cols_old))\n",
    "\n",
    "#rename\n",
    "df1.columns = cols_new"
   ]
  },
  {
   "cell_type": "code",
   "execution_count": 7,
   "id": "490f3522",
   "metadata": {},
   "outputs": [
    {
     "data": {
      "text/plain": [
       "Index(['store', 'day_of_week', 'date', 'sales', 'customers', 'open', 'promo',\n",
       "       'state_holiday', 'school_holiday', 'store_type', 'assortment',\n",
       "       'competition_distance', 'competition_open_since_month',\n",
       "       'competition_open_since_year', 'promo2', 'promo2_since_week',\n",
       "       'promo2_since_year', 'promo_interval'],\n",
       "      dtype='object')"
      ]
     },
     "execution_count": 7,
     "metadata": {},
     "output_type": "execute_result"
    }
   ],
   "source": [
    "df1.columns"
   ]
  },
  {
   "cell_type": "markdown",
   "id": "1205aaf5",
   "metadata": {},
   "source": [
    "## 1.2 Data Dimensions"
   ]
  },
  {
   "cell_type": "code",
   "execution_count": 8,
   "id": "cd536cc5",
   "metadata": {},
   "outputs": [
    {
     "name": "stdout",
     "output_type": "stream",
     "text": [
      "Number of Rows:1017209\n",
      "Number of Cols:18\n"
     ]
    }
   ],
   "source": [
    "print (\"Number of Rows:{}\".format(df1.shape[0]))\n",
    "print (\"Number of Cols:{}\".format(df1.shape[1]))"
   ]
  },
  {
   "cell_type": "markdown",
   "id": "de234017",
   "metadata": {},
   "source": [
    "## 1.3 Data Types"
   ]
  },
  {
   "cell_type": "code",
   "execution_count": 9,
   "id": "1d770a05",
   "metadata": {},
   "outputs": [
    {
     "data": {
      "text/plain": [
       "store                                    int64\n",
       "day_of_week                              int64\n",
       "date                            datetime64[ns]\n",
       "sales                                    int64\n",
       "customers                                int64\n",
       "open                                     int64\n",
       "promo                                    int64\n",
       "state_holiday                           object\n",
       "school_holiday                           int64\n",
       "store_type                              object\n",
       "assortment                              object\n",
       "competition_distance                   float64\n",
       "competition_open_since_month           float64\n",
       "competition_open_since_year            float64\n",
       "promo2                                   int64\n",
       "promo2_since_week                      float64\n",
       "promo2_since_year                      float64\n",
       "promo_interval                          object\n",
       "dtype: object"
      ]
     },
     "execution_count": 9,
     "metadata": {},
     "output_type": "execute_result"
    }
   ],
   "source": [
    "# mudar a data de object para forma de data\n",
    "df1[\"date\"] = pd.to_datetime(df1[\"date\"])\n",
    "df1.dtypes"
   ]
  },
  {
   "cell_type": "markdown",
   "id": "4b3a350c",
   "metadata": {},
   "source": [
    "## 1.4 Check NA"
   ]
  },
  {
   "cell_type": "code",
   "execution_count": 10,
   "id": "f7a80187",
   "metadata": {},
   "outputs": [
    {
     "data": {
      "text/plain": [
       "store                                0\n",
       "day_of_week                          0\n",
       "date                                 0\n",
       "sales                                0\n",
       "customers                            0\n",
       "open                                 0\n",
       "promo                                0\n",
       "state_holiday                        0\n",
       "school_holiday                       0\n",
       "store_type                           0\n",
       "assortment                           0\n",
       "competition_distance              2642\n",
       "competition_open_since_month    323348\n",
       "competition_open_since_year     323348\n",
       "promo2                               0\n",
       "promo2_since_week               508031\n",
       "promo2_since_year               508031\n",
       "promo_interval                  508031\n",
       "dtype: int64"
      ]
     },
     "execution_count": 10,
     "metadata": {},
     "output_type": "execute_result"
    }
   ],
   "source": [
    "df1.isna().sum()"
   ]
  },
  {
   "cell_type": "markdown",
   "id": "d5ca934d",
   "metadata": {},
   "source": [
    "## 1.5 Fillout NA (Substituindo os dados faltantes)"
   ]
  },
  {
   "cell_type": "code",
   "execution_count": 11,
   "id": "7ed39aae",
   "metadata": {},
   "outputs": [],
   "source": [
    "### 3 formas de tratar os \"na\"\n",
    "### 1- exclui, mas perde informação\n",
    "### 2- ML para substituição no comportameno da coluna (Mediana ou media clusterização ou predição dos valores vazios)\n",
    "### 3-pensar no negócio (pq gerou o NA)"
   ]
  },
  {
   "cell_type": "code",
   "execution_count": 12,
   "id": "82eb4152",
   "metadata": {},
   "outputs": [
    {
     "data": {
      "text/html": [
       "<div>\n",
       "<style scoped>\n",
       "    .dataframe tbody tr th:only-of-type {\n",
       "        vertical-align: middle;\n",
       "    }\n",
       "\n",
       "    .dataframe tbody tr th {\n",
       "        vertical-align: top;\n",
       "    }\n",
       "\n",
       "    .dataframe thead th {\n",
       "        text-align: right;\n",
       "    }\n",
       "</style>\n",
       "<table border=\"1\" class=\"dataframe\">\n",
       "  <thead>\n",
       "    <tr style=\"text-align: right;\">\n",
       "      <th></th>\n",
       "      <th>store</th>\n",
       "      <th>day_of_week</th>\n",
       "      <th>date</th>\n",
       "      <th>sales</th>\n",
       "      <th>customers</th>\n",
       "      <th>open</th>\n",
       "      <th>promo</th>\n",
       "      <th>state_holiday</th>\n",
       "      <th>school_holiday</th>\n",
       "      <th>store_type</th>\n",
       "      <th>assortment</th>\n",
       "      <th>competition_distance</th>\n",
       "      <th>competition_open_since_month</th>\n",
       "      <th>competition_open_since_year</th>\n",
       "      <th>promo2</th>\n",
       "      <th>promo2_since_week</th>\n",
       "      <th>promo2_since_year</th>\n",
       "      <th>promo_interval</th>\n",
       "    </tr>\n",
       "  </thead>\n",
       "  <tbody>\n",
       "    <tr>\n",
       "      <th>361298</th>\n",
       "      <td>678</td>\n",
       "      <td>3</td>\n",
       "      <td>2014-08-20</td>\n",
       "      <td>7814</td>\n",
       "      <td>876</td>\n",
       "      <td>1</td>\n",
       "      <td>1</td>\n",
       "      <td>0</td>\n",
       "      <td>0</td>\n",
       "      <td>c</td>\n",
       "      <td>a</td>\n",
       "      <td>3250.0</td>\n",
       "      <td>NaN</td>\n",
       "      <td>NaN</td>\n",
       "      <td>1</td>\n",
       "      <td>40.0</td>\n",
       "      <td>2011.0</td>\n",
       "      <td>Jan,Apr,Jul,Oct</td>\n",
       "    </tr>\n",
       "  </tbody>\n",
       "</table>\n",
       "</div>"
      ],
      "text/plain": [
       "        store  day_of_week       date  sales  customers  open  promo  \\\n",
       "361298    678            3 2014-08-20   7814        876     1      1   \n",
       "\n",
       "       state_holiday  school_holiday store_type assortment  \\\n",
       "361298             0               0          c          a   \n",
       "\n",
       "        competition_distance  competition_open_since_month  \\\n",
       "361298                3250.0                           NaN   \n",
       "\n",
       "        competition_open_since_year  promo2  promo2_since_week  \\\n",
       "361298                          NaN       1               40.0   \n",
       "\n",
       "        promo2_since_year   promo_interval  \n",
       "361298             2011.0  Jan,Apr,Jul,Oct  "
      ]
     },
     "execution_count": 12,
     "metadata": {},
     "output_type": "execute_result"
    }
   ],
   "source": [
    "df1.sample()"
   ]
  },
  {
   "cell_type": "code",
   "execution_count": 13,
   "id": "f136a806",
   "metadata": {},
   "outputs": [
    {
     "data": {
      "text/plain": [
       "75860.0"
      ]
     },
     "execution_count": 13,
     "metadata": {},
     "output_type": "execute_result"
    }
   ],
   "source": [
    "df1[\"competition_distance\"].max()"
   ]
  },
  {
   "cell_type": "code",
   "execution_count": 14,
   "id": "a33191cf",
   "metadata": {},
   "outputs": [],
   "source": [
    "#competition_distance colocar 0 no lugar de NA Lambda é assim pq só tem 1 coluna\n",
    "df1[\"competition_distance\"] = df1[\"competition_distance\"].apply (lambda x:200000.0 if math.isnan(x) else x)\n",
    "\n",
    "#competition_open_since_month aqui aplica assim pq tem mais de uma coluna para analisar (por isso o Axis:1, se fosse axis 0 seria ao longo da linha)\n",
    "df1[\"competition_open_since_month\"] = df1.apply(lambda x: x[\"date\"].month if math.isnan( x[\"competition_open_since_month\"]) else x[\"competition_open_since_month\"], axis=1)\n",
    "\n",
    "#competition_open_since_year\n",
    "df1[\"competition_open_since_year\"] = df1.apply(lambda x: x[\"date\"].year if math.isnan( x[\"competition_open_since_year\"]) else x[\"competition_open_since_year\"], axis=1)\n",
    "\n",
    "#promo2_since_week\n",
    "df1[\"promo2_since_week\"] = df1.apply(lambda x: x[\"date\"].week if math.isnan( x[\"promo2_since_week\"]) else x[\"promo2_since_week\"], axis=1)\n",
    "\n",
    "#promo2_since_year\n",
    "df1[\"promo2_since_year\"] = df1.apply(lambda x: x[\"date\"].year if math.isnan( x[\"promo2_since_year\"]) else x[\"promo2_since_year\"], axis=1)\n"
   ]
  },
  {
   "cell_type": "code",
   "execution_count": 15,
   "id": "2509768b",
   "metadata": {},
   "outputs": [],
   "source": [
    "#promo_interval Inplace=True faz a modificação direto na coluna e Fillna vai preencher com 0\n",
    "month_map={1:\"Jan\", 2:\"Fev\", 3:\"Mar\", 4:\"Apr\", 5:\"May\", 6:\"Jun\", 7:\"Jul\", 8:\"Aug\", 9:\"Sep\", 10:\"Oct\", 11:\"Nov\", 12:\"Dec\"}\n",
    "\n",
    "df1[\"promo_interval\"].fillna(0, inplace=True)\n",
    "\n",
    "#Mapeia a o dicionario dentro da coluna (para saber se está dentro da promoção, se 0 não participa da promoção se 1 participa)\n",
    "df1[\"month_map\"] = df1[\"date\"].dt.month.map(month_map)\n",
    "\n",
    "df1[\"is_promo\"] = df1[[\"promo_interval\", \"month_map\"]].apply(lambda x: 0 if x[\"promo_interval\"] == 0 else 1 if x[\"month_map\"] in x[\"promo_interval\"].split(\",\") else 0, axis=1)\n"
   ]
  },
  {
   "cell_type": "code",
   "execution_count": 16,
   "id": "0dc832a0",
   "metadata": {
    "scrolled": true
   },
   "outputs": [
    {
     "data": {
      "text/html": [
       "<div>\n",
       "<style scoped>\n",
       "    .dataframe tbody tr th:only-of-type {\n",
       "        vertical-align: middle;\n",
       "    }\n",
       "\n",
       "    .dataframe tbody tr th {\n",
       "        vertical-align: top;\n",
       "    }\n",
       "\n",
       "    .dataframe thead th {\n",
       "        text-align: right;\n",
       "    }\n",
       "</style>\n",
       "<table border=\"1\" class=\"dataframe\">\n",
       "  <thead>\n",
       "    <tr style=\"text-align: right;\">\n",
       "      <th></th>\n",
       "      <th>297524</th>\n",
       "      <th>270561</th>\n",
       "      <th>513917</th>\n",
       "      <th>153372</th>\n",
       "      <th>824308</th>\n",
       "    </tr>\n",
       "  </thead>\n",
       "  <tbody>\n",
       "    <tr>\n",
       "      <th>store</th>\n",
       "      <td>442</td>\n",
       "      <td>623</td>\n",
       "      <td>688</td>\n",
       "      <td>618</td>\n",
       "      <td>1109</td>\n",
       "    </tr>\n",
       "    <tr>\n",
       "      <th>day_of_week</th>\n",
       "      <td>1</td>\n",
       "      <td>2</td>\n",
       "      <td>5</td>\n",
       "      <td>1</td>\n",
       "      <td>7</td>\n",
       "    </tr>\n",
       "    <tr>\n",
       "      <th>date</th>\n",
       "      <td>2014-10-27 00:00:00</td>\n",
       "      <td>2014-11-25 00:00:00</td>\n",
       "      <td>2014-03-28 00:00:00</td>\n",
       "      <td>2015-03-16 00:00:00</td>\n",
       "      <td>2013-06-23 00:00:00</td>\n",
       "    </tr>\n",
       "    <tr>\n",
       "      <th>sales</th>\n",
       "      <td>2998</td>\n",
       "      <td>8663</td>\n",
       "      <td>3551</td>\n",
       "      <td>10063</td>\n",
       "      <td>0</td>\n",
       "    </tr>\n",
       "    <tr>\n",
       "      <th>customers</th>\n",
       "      <td>376</td>\n",
       "      <td>914</td>\n",
       "      <td>377</td>\n",
       "      <td>642</td>\n",
       "      <td>0</td>\n",
       "    </tr>\n",
       "    <tr>\n",
       "      <th>open</th>\n",
       "      <td>1</td>\n",
       "      <td>1</td>\n",
       "      <td>1</td>\n",
       "      <td>1</td>\n",
       "      <td>0</td>\n",
       "    </tr>\n",
       "    <tr>\n",
       "      <th>promo</th>\n",
       "      <td>0</td>\n",
       "      <td>1</td>\n",
       "      <td>0</td>\n",
       "      <td>1</td>\n",
       "      <td>0</td>\n",
       "    </tr>\n",
       "    <tr>\n",
       "      <th>state_holiday</th>\n",
       "      <td>0</td>\n",
       "      <td>0</td>\n",
       "      <td>0</td>\n",
       "      <td>0</td>\n",
       "      <td>0</td>\n",
       "    </tr>\n",
       "    <tr>\n",
       "      <th>school_holiday</th>\n",
       "      <td>1</td>\n",
       "      <td>0</td>\n",
       "      <td>0</td>\n",
       "      <td>0</td>\n",
       "      <td>0</td>\n",
       "    </tr>\n",
       "    <tr>\n",
       "      <th>store_type</th>\n",
       "      <td>c</td>\n",
       "      <td>a</td>\n",
       "      <td>a</td>\n",
       "      <td>d</td>\n",
       "      <td>c</td>\n",
       "    </tr>\n",
       "    <tr>\n",
       "      <th>assortment</th>\n",
       "      <td>a</td>\n",
       "      <td>a</td>\n",
       "      <td>a</td>\n",
       "      <td>c</td>\n",
       "      <td>a</td>\n",
       "    </tr>\n",
       "    <tr>\n",
       "      <th>competition_distance</th>\n",
       "      <td>500.0</td>\n",
       "      <td>4080.0</td>\n",
       "      <td>18760.0</td>\n",
       "      <td>9910.0</td>\n",
       "      <td>3490.0</td>\n",
       "    </tr>\n",
       "    <tr>\n",
       "      <th>competition_open_since_month</th>\n",
       "      <td>10.0</td>\n",
       "      <td>3.0</td>\n",
       "      <td>8.0</td>\n",
       "      <td>3.0</td>\n",
       "      <td>4.0</td>\n",
       "    </tr>\n",
       "    <tr>\n",
       "      <th>competition_open_since_year</th>\n",
       "      <td>2014.0</td>\n",
       "      <td>2011.0</td>\n",
       "      <td>2015.0</td>\n",
       "      <td>2015.0</td>\n",
       "      <td>2011.0</td>\n",
       "    </tr>\n",
       "    <tr>\n",
       "      <th>promo2</th>\n",
       "      <td>1</td>\n",
       "      <td>1</td>\n",
       "      <td>1</td>\n",
       "      <td>0</td>\n",
       "      <td>1</td>\n",
       "    </tr>\n",
       "    <tr>\n",
       "      <th>promo2_since_week</th>\n",
       "      <td>45.0</td>\n",
       "      <td>13.0</td>\n",
       "      <td>14.0</td>\n",
       "      <td>12.0</td>\n",
       "      <td>22.0</td>\n",
       "    </tr>\n",
       "    <tr>\n",
       "      <th>promo2_since_year</th>\n",
       "      <td>2009.0</td>\n",
       "      <td>2010.0</td>\n",
       "      <td>2011.0</td>\n",
       "      <td>2015.0</td>\n",
       "      <td>2012.0</td>\n",
       "    </tr>\n",
       "    <tr>\n",
       "      <th>promo_interval</th>\n",
       "      <td>Feb,May,Aug,Nov</td>\n",
       "      <td>Jan,Apr,Jul,Oct</td>\n",
       "      <td>Jan,Apr,Jul,Oct</td>\n",
       "      <td>0</td>\n",
       "      <td>Jan,Apr,Jul,Oct</td>\n",
       "    </tr>\n",
       "    <tr>\n",
       "      <th>month_map</th>\n",
       "      <td>Oct</td>\n",
       "      <td>Nov</td>\n",
       "      <td>Mar</td>\n",
       "      <td>Mar</td>\n",
       "      <td>Jun</td>\n",
       "    </tr>\n",
       "    <tr>\n",
       "      <th>is_promo</th>\n",
       "      <td>0</td>\n",
       "      <td>0</td>\n",
       "      <td>0</td>\n",
       "      <td>0</td>\n",
       "      <td>0</td>\n",
       "    </tr>\n",
       "  </tbody>\n",
       "</table>\n",
       "</div>"
      ],
      "text/plain": [
       "                                           297524               270561  \\\n",
       "store                                         442                  623   \n",
       "day_of_week                                     1                    2   \n",
       "date                          2014-10-27 00:00:00  2014-11-25 00:00:00   \n",
       "sales                                        2998                 8663   \n",
       "customers                                     376                  914   \n",
       "open                                            1                    1   \n",
       "promo                                           0                    1   \n",
       "state_holiday                                   0                    0   \n",
       "school_holiday                                  1                    0   \n",
       "store_type                                      c                    a   \n",
       "assortment                                      a                    a   \n",
       "competition_distance                        500.0               4080.0   \n",
       "competition_open_since_month                 10.0                  3.0   \n",
       "competition_open_since_year                2014.0               2011.0   \n",
       "promo2                                          1                    1   \n",
       "promo2_since_week                            45.0                 13.0   \n",
       "promo2_since_year                          2009.0               2010.0   \n",
       "promo_interval                    Feb,May,Aug,Nov      Jan,Apr,Jul,Oct   \n",
       "month_map                                     Oct                  Nov   \n",
       "is_promo                                        0                    0   \n",
       "\n",
       "                                           513917               153372  \\\n",
       "store                                         688                  618   \n",
       "day_of_week                                     5                    1   \n",
       "date                          2014-03-28 00:00:00  2015-03-16 00:00:00   \n",
       "sales                                        3551                10063   \n",
       "customers                                     377                  642   \n",
       "open                                            1                    1   \n",
       "promo                                           0                    1   \n",
       "state_holiday                                   0                    0   \n",
       "school_holiday                                  0                    0   \n",
       "store_type                                      a                    d   \n",
       "assortment                                      a                    c   \n",
       "competition_distance                      18760.0               9910.0   \n",
       "competition_open_since_month                  8.0                  3.0   \n",
       "competition_open_since_year                2015.0               2015.0   \n",
       "promo2                                          1                    0   \n",
       "promo2_since_week                            14.0                 12.0   \n",
       "promo2_since_year                          2011.0               2015.0   \n",
       "promo_interval                    Jan,Apr,Jul,Oct                    0   \n",
       "month_map                                     Mar                  Mar   \n",
       "is_promo                                        0                    0   \n",
       "\n",
       "                                           824308  \n",
       "store                                        1109  \n",
       "day_of_week                                     7  \n",
       "date                          2013-06-23 00:00:00  \n",
       "sales                                           0  \n",
       "customers                                       0  \n",
       "open                                            0  \n",
       "promo                                           0  \n",
       "state_holiday                                   0  \n",
       "school_holiday                                  0  \n",
       "store_type                                      c  \n",
       "assortment                                      a  \n",
       "competition_distance                       3490.0  \n",
       "competition_open_since_month                  4.0  \n",
       "competition_open_since_year                2011.0  \n",
       "promo2                                          1  \n",
       "promo2_since_week                            22.0  \n",
       "promo2_since_year                          2012.0  \n",
       "promo_interval                    Jan,Apr,Jul,Oct  \n",
       "month_map                                     Jun  \n",
       "is_promo                                        0  "
      ]
     },
     "execution_count": 16,
     "metadata": {},
     "output_type": "execute_result"
    }
   ],
   "source": [
    "#T = Transpose\n",
    "df1.sample(5).T"
   ]
  },
  {
   "cell_type": "code",
   "execution_count": 17,
   "id": "173fc133",
   "metadata": {},
   "outputs": [
    {
     "data": {
      "text/plain": [
       "store                           0\n",
       "day_of_week                     0\n",
       "date                            0\n",
       "sales                           0\n",
       "customers                       0\n",
       "open                            0\n",
       "promo                           0\n",
       "state_holiday                   0\n",
       "school_holiday                  0\n",
       "store_type                      0\n",
       "assortment                      0\n",
       "competition_distance            0\n",
       "competition_open_since_month    0\n",
       "competition_open_since_year     0\n",
       "promo2                          0\n",
       "promo2_since_week               0\n",
       "promo2_since_year               0\n",
       "promo_interval                  0\n",
       "month_map                       0\n",
       "is_promo                        0\n",
       "dtype: int64"
      ]
     },
     "execution_count": 17,
     "metadata": {},
     "output_type": "execute_result"
    }
   ],
   "source": [
    "df1.isna().sum()"
   ]
  },
  {
   "cell_type": "markdown",
   "id": "61536993",
   "metadata": {},
   "source": [
    "## 1.6 Change Types (Estatística Descritiva)\n"
   ]
  },
  {
   "cell_type": "code",
   "execution_count": 18,
   "id": "eec07ba1",
   "metadata": {},
   "outputs": [
    {
     "data": {
      "text/plain": [
       "store                                    int64\n",
       "day_of_week                              int64\n",
       "date                            datetime64[ns]\n",
       "sales                                    int64\n",
       "customers                                int64\n",
       "open                                     int64\n",
       "promo                                    int64\n",
       "state_holiday                           object\n",
       "school_holiday                           int64\n",
       "store_type                              object\n",
       "assortment                              object\n",
       "competition_distance                   float64\n",
       "competition_open_since_month           float64\n",
       "competition_open_since_year            float64\n",
       "promo2                                   int64\n",
       "promo2_since_week                      float64\n",
       "promo2_since_year                      float64\n",
       "promo_interval                          object\n",
       "month_map                               object\n",
       "is_promo                                 int64\n",
       "dtype: object"
      ]
     },
     "execution_count": 18,
     "metadata": {},
     "output_type": "execute_result"
    }
   ],
   "source": [
    "df1.dtypes"
   ]
  },
  {
   "cell_type": "code",
   "execution_count": 19,
   "id": "2a39af02",
   "metadata": {},
   "outputs": [],
   "source": [
    "df1[\"competition_open_since_month\"] = df1[\"competition_open_since_month\"].astype(int)\n",
    "df1[\"competition_open_since_year\"] = df1[\"competition_open_since_year\"].astype(int)\n",
    "\n",
    "df1[\"promo2_since_week\"] = df1[\"promo2_since_week\"].astype(int)\n",
    "df1[\"promo2_since_year\"] = df1[\"promo2_since_year\"].astype(int)"
   ]
  },
  {
   "cell_type": "code",
   "execution_count": 20,
   "id": "091c02e9",
   "metadata": {},
   "outputs": [
    {
     "data": {
      "text/plain": [
       "store                                    int64\n",
       "day_of_week                              int64\n",
       "date                            datetime64[ns]\n",
       "sales                                    int64\n",
       "customers                                int64\n",
       "open                                     int64\n",
       "promo                                    int64\n",
       "state_holiday                           object\n",
       "school_holiday                           int64\n",
       "store_type                              object\n",
       "assortment                              object\n",
       "competition_distance                   float64\n",
       "competition_open_since_month             int64\n",
       "competition_open_since_year              int64\n",
       "promo2                                   int64\n",
       "promo2_since_week                        int64\n",
       "promo2_since_year                        int64\n",
       "promo_interval                          object\n",
       "month_map                               object\n",
       "is_promo                                 int64\n",
       "dtype: object"
      ]
     },
     "execution_count": 20,
     "metadata": {},
     "output_type": "execute_result"
    }
   ],
   "source": [
    "df1.dtypes"
   ]
  },
  {
   "cell_type": "markdown",
   "id": "a004f18c",
   "metadata": {},
   "source": [
    "## 1.7 Descriptive Statistical "
   ]
  },
  {
   "cell_type": "code",
   "execution_count": 21,
   "id": "e69cf5b4",
   "metadata": {},
   "outputs": [],
   "source": [
    "#numérico\n",
    "num_attributes = df1.select_dtypes(include=[\"int64\", \"float64\"])\n",
    "#categórico\n",
    "cat_attributes = df1.select_dtypes(exclude=[\"int64\", \"float64\",\"datetime64[ns]\"])"
   ]
  },
  {
   "cell_type": "code",
   "execution_count": 22,
   "id": "5ce6bbc5",
   "metadata": {},
   "outputs": [
    {
     "data": {
      "text/html": [
       "<div>\n",
       "<style scoped>\n",
       "    .dataframe tbody tr th:only-of-type {\n",
       "        vertical-align: middle;\n",
       "    }\n",
       "\n",
       "    .dataframe tbody tr th {\n",
       "        vertical-align: top;\n",
       "    }\n",
       "\n",
       "    .dataframe thead th {\n",
       "        text-align: right;\n",
       "    }\n",
       "</style>\n",
       "<table border=\"1\" class=\"dataframe\">\n",
       "  <thead>\n",
       "    <tr style=\"text-align: right;\">\n",
       "      <th></th>\n",
       "      <th>store</th>\n",
       "      <th>day_of_week</th>\n",
       "      <th>sales</th>\n",
       "      <th>customers</th>\n",
       "      <th>open</th>\n",
       "      <th>promo</th>\n",
       "      <th>school_holiday</th>\n",
       "      <th>competition_distance</th>\n",
       "      <th>competition_open_since_month</th>\n",
       "      <th>competition_open_since_year</th>\n",
       "      <th>promo2</th>\n",
       "      <th>promo2_since_week</th>\n",
       "      <th>promo2_since_year</th>\n",
       "      <th>is_promo</th>\n",
       "    </tr>\n",
       "  </thead>\n",
       "  <tbody>\n",
       "    <tr>\n",
       "      <th>809809</th>\n",
       "      <td>1105</td>\n",
       "      <td>6</td>\n",
       "      <td>3342</td>\n",
       "      <td>453</td>\n",
       "      <td>1</td>\n",
       "      <td>0</td>\n",
       "      <td>0</td>\n",
       "      <td>330.0</td>\n",
       "      <td>11</td>\n",
       "      <td>2008</td>\n",
       "      <td>1</td>\n",
       "      <td>5</td>\n",
       "      <td>2013</td>\n",
       "      <td>0</td>\n",
       "    </tr>\n",
       "    <tr>\n",
       "      <th>326051</th>\n",
       "      <td>1011</td>\n",
       "      <td>6</td>\n",
       "      <td>9184</td>\n",
       "      <td>1148</td>\n",
       "      <td>1</td>\n",
       "      <td>0</td>\n",
       "      <td>0</td>\n",
       "      <td>490.0</td>\n",
       "      <td>9</td>\n",
       "      <td>2012</td>\n",
       "      <td>1</td>\n",
       "      <td>18</td>\n",
       "      <td>2011</td>\n",
       "      <td>0</td>\n",
       "    </tr>\n",
       "    <tr>\n",
       "      <th>629778</th>\n",
       "      <td>589</td>\n",
       "      <td>6</td>\n",
       "      <td>3212</td>\n",
       "      <td>376</td>\n",
       "      <td>1</td>\n",
       "      <td>0</td>\n",
       "      <td>0</td>\n",
       "      <td>360.0</td>\n",
       "      <td>12</td>\n",
       "      <td>2013</td>\n",
       "      <td>1</td>\n",
       "      <td>18</td>\n",
       "      <td>2013</td>\n",
       "      <td>0</td>\n",
       "    </tr>\n",
       "    <tr>\n",
       "      <th>461623</th>\n",
       "      <td>799</td>\n",
       "      <td>3</td>\n",
       "      <td>7774</td>\n",
       "      <td>800</td>\n",
       "      <td>1</td>\n",
       "      <td>0</td>\n",
       "      <td>0</td>\n",
       "      <td>2700.0</td>\n",
       "      <td>5</td>\n",
       "      <td>2014</td>\n",
       "      <td>0</td>\n",
       "      <td>20</td>\n",
       "      <td>2014</td>\n",
       "      <td>0</td>\n",
       "    </tr>\n",
       "    <tr>\n",
       "      <th>711952</th>\n",
       "      <td>253</td>\n",
       "      <td>2</td>\n",
       "      <td>4905</td>\n",
       "      <td>698</td>\n",
       "      <td>1</td>\n",
       "      <td>0</td>\n",
       "      <td>0</td>\n",
       "      <td>250.0</td>\n",
       "      <td>10</td>\n",
       "      <td>2013</td>\n",
       "      <td>1</td>\n",
       "      <td>5</td>\n",
       "      <td>2013</td>\n",
       "      <td>0</td>\n",
       "    </tr>\n",
       "  </tbody>\n",
       "</table>\n",
       "</div>"
      ],
      "text/plain": [
       "        store  day_of_week  sales  customers  open  promo  school_holiday  \\\n",
       "809809   1105            6   3342        453     1      0               0   \n",
       "326051   1011            6   9184       1148     1      0               0   \n",
       "629778    589            6   3212        376     1      0               0   \n",
       "461623    799            3   7774        800     1      0               0   \n",
       "711952    253            2   4905        698     1      0               0   \n",
       "\n",
       "        competition_distance  competition_open_since_month  \\\n",
       "809809                 330.0                            11   \n",
       "326051                 490.0                             9   \n",
       "629778                 360.0                            12   \n",
       "461623                2700.0                             5   \n",
       "711952                 250.0                            10   \n",
       "\n",
       "        competition_open_since_year  promo2  promo2_since_week  \\\n",
       "809809                         2008       1                  5   \n",
       "326051                         2012       1                 18   \n",
       "629778                         2013       1                 18   \n",
       "461623                         2014       0                 20   \n",
       "711952                         2013       1                  5   \n",
       "\n",
       "        promo2_since_year  is_promo  \n",
       "809809               2013         0  \n",
       "326051               2011         0  \n",
       "629778               2013         0  \n",
       "461623               2014         0  \n",
       "711952               2013         0  "
      ]
     },
     "execution_count": 22,
     "metadata": {},
     "output_type": "execute_result"
    }
   ],
   "source": [
    "num_attributes.sample(5)"
   ]
  },
  {
   "cell_type": "code",
   "execution_count": 23,
   "id": "82c41353",
   "metadata": {},
   "outputs": [
    {
     "data": {
      "text/html": [
       "<div>\n",
       "<style scoped>\n",
       "    .dataframe tbody tr th:only-of-type {\n",
       "        vertical-align: middle;\n",
       "    }\n",
       "\n",
       "    .dataframe tbody tr th {\n",
       "        vertical-align: top;\n",
       "    }\n",
       "\n",
       "    .dataframe thead th {\n",
       "        text-align: right;\n",
       "    }\n",
       "</style>\n",
       "<table border=\"1\" class=\"dataframe\">\n",
       "  <thead>\n",
       "    <tr style=\"text-align: right;\">\n",
       "      <th></th>\n",
       "      <th>state_holiday</th>\n",
       "      <th>store_type</th>\n",
       "      <th>assortment</th>\n",
       "      <th>promo_interval</th>\n",
       "      <th>month_map</th>\n",
       "    </tr>\n",
       "  </thead>\n",
       "  <tbody>\n",
       "    <tr>\n",
       "      <th>68700</th>\n",
       "      <td>0</td>\n",
       "      <td>a</td>\n",
       "      <td>a</td>\n",
       "      <td>0</td>\n",
       "      <td>May</td>\n",
       "    </tr>\n",
       "    <tr>\n",
       "      <th>490427</th>\n",
       "      <td>b</td>\n",
       "      <td>c</td>\n",
       "      <td>a</td>\n",
       "      <td>Jan,Apr,Jul,Oct</td>\n",
       "      <td>Apr</td>\n",
       "    </tr>\n",
       "    <tr>\n",
       "      <th>979439</th>\n",
       "      <td>0</td>\n",
       "      <td>a</td>\n",
       "      <td>c</td>\n",
       "      <td>Jan,Apr,Jul,Oct</td>\n",
       "      <td>Fev</td>\n",
       "    </tr>\n",
       "    <tr>\n",
       "      <th>497313</th>\n",
       "      <td>0</td>\n",
       "      <td>a</td>\n",
       "      <td>a</td>\n",
       "      <td>0</td>\n",
       "      <td>Apr</td>\n",
       "    </tr>\n",
       "    <tr>\n",
       "      <th>498603</th>\n",
       "      <td>0</td>\n",
       "      <td>c</td>\n",
       "      <td>a</td>\n",
       "      <td>Jan,Apr,Jul,Oct</td>\n",
       "      <td>Apr</td>\n",
       "    </tr>\n",
       "  </tbody>\n",
       "</table>\n",
       "</div>"
      ],
      "text/plain": [
       "       state_holiday store_type assortment   promo_interval month_map\n",
       "68700              0          a          a                0       May\n",
       "490427             b          c          a  Jan,Apr,Jul,Oct       Apr\n",
       "979439             0          a          c  Jan,Apr,Jul,Oct       Fev\n",
       "497313             0          a          a                0       Apr\n",
       "498603             0          c          a  Jan,Apr,Jul,Oct       Apr"
      ]
     },
     "execution_count": 23,
     "metadata": {},
     "output_type": "execute_result"
    }
   ],
   "source": [
    "cat_attributes.sample(5)"
   ]
  },
  {
   "cell_type": "markdown",
   "id": "4f28f37d",
   "metadata": {},
   "source": [
    "### 1.7.1 Numerical Attributes "
   ]
  },
  {
   "cell_type": "code",
   "execution_count": 24,
   "id": "7867710d",
   "metadata": {},
   "outputs": [
    {
     "data": {
      "text/html": [
       "<div>\n",
       "<style scoped>\n",
       "    .dataframe tbody tr th:only-of-type {\n",
       "        vertical-align: middle;\n",
       "    }\n",
       "\n",
       "    .dataframe tbody tr th {\n",
       "        vertical-align: top;\n",
       "    }\n",
       "\n",
       "    .dataframe thead th {\n",
       "        text-align: right;\n",
       "    }\n",
       "</style>\n",
       "<table border=\"1\" class=\"dataframe\">\n",
       "  <thead>\n",
       "    <tr style=\"text-align: right;\">\n",
       "      <th></th>\n",
       "      <th>attributes</th>\n",
       "      <th>mim</th>\n",
       "      <th>max</th>\n",
       "      <th>range</th>\n",
       "      <th>mean</th>\n",
       "      <th>median</th>\n",
       "      <th>std</th>\n",
       "      <th>skew</th>\n",
       "      <th>kurtosis</th>\n",
       "    </tr>\n",
       "  </thead>\n",
       "  <tbody>\n",
       "    <tr>\n",
       "      <th>0</th>\n",
       "      <td>store</td>\n",
       "      <td>1.0</td>\n",
       "      <td>1115.0</td>\n",
       "      <td>1114.0</td>\n",
       "      <td>558.429727</td>\n",
       "      <td>558.0</td>\n",
       "      <td>321.908493</td>\n",
       "      <td>-0.000955</td>\n",
       "      <td>-1.200524</td>\n",
       "    </tr>\n",
       "    <tr>\n",
       "      <th>1</th>\n",
       "      <td>day_of_week</td>\n",
       "      <td>1.0</td>\n",
       "      <td>7.0</td>\n",
       "      <td>6.0</td>\n",
       "      <td>3.998341</td>\n",
       "      <td>4.0</td>\n",
       "      <td>1.997390</td>\n",
       "      <td>0.001593</td>\n",
       "      <td>-1.246873</td>\n",
       "    </tr>\n",
       "    <tr>\n",
       "      <th>2</th>\n",
       "      <td>sales</td>\n",
       "      <td>0.0</td>\n",
       "      <td>41551.0</td>\n",
       "      <td>41551.0</td>\n",
       "      <td>5773.818972</td>\n",
       "      <td>5744.0</td>\n",
       "      <td>3849.924283</td>\n",
       "      <td>0.641460</td>\n",
       "      <td>1.778375</td>\n",
       "    </tr>\n",
       "    <tr>\n",
       "      <th>3</th>\n",
       "      <td>customers</td>\n",
       "      <td>0.0</td>\n",
       "      <td>7388.0</td>\n",
       "      <td>7388.0</td>\n",
       "      <td>633.145946</td>\n",
       "      <td>609.0</td>\n",
       "      <td>464.411506</td>\n",
       "      <td>1.598650</td>\n",
       "      <td>7.091773</td>\n",
       "    </tr>\n",
       "    <tr>\n",
       "      <th>4</th>\n",
       "      <td>open</td>\n",
       "      <td>0.0</td>\n",
       "      <td>1.0</td>\n",
       "      <td>1.0</td>\n",
       "      <td>0.830107</td>\n",
       "      <td>1.0</td>\n",
       "      <td>0.375539</td>\n",
       "      <td>-1.758045</td>\n",
       "      <td>1.090723</td>\n",
       "    </tr>\n",
       "    <tr>\n",
       "      <th>5</th>\n",
       "      <td>promo</td>\n",
       "      <td>0.0</td>\n",
       "      <td>1.0</td>\n",
       "      <td>1.0</td>\n",
       "      <td>0.381515</td>\n",
       "      <td>0.0</td>\n",
       "      <td>0.485758</td>\n",
       "      <td>0.487838</td>\n",
       "      <td>-1.762018</td>\n",
       "    </tr>\n",
       "    <tr>\n",
       "      <th>6</th>\n",
       "      <td>school_holiday</td>\n",
       "      <td>0.0</td>\n",
       "      <td>1.0</td>\n",
       "      <td>1.0</td>\n",
       "      <td>0.178647</td>\n",
       "      <td>0.0</td>\n",
       "      <td>0.383056</td>\n",
       "      <td>1.677842</td>\n",
       "      <td>0.815154</td>\n",
       "    </tr>\n",
       "    <tr>\n",
       "      <th>7</th>\n",
       "      <td>competition_distance</td>\n",
       "      <td>20.0</td>\n",
       "      <td>200000.0</td>\n",
       "      <td>199980.0</td>\n",
       "      <td>5935.442677</td>\n",
       "      <td>2330.0</td>\n",
       "      <td>12547.646829</td>\n",
       "      <td>10.242344</td>\n",
       "      <td>147.789712</td>\n",
       "    </tr>\n",
       "    <tr>\n",
       "      <th>8</th>\n",
       "      <td>competition_open_since_month</td>\n",
       "      <td>1.0</td>\n",
       "      <td>12.0</td>\n",
       "      <td>11.0</td>\n",
       "      <td>6.786849</td>\n",
       "      <td>7.0</td>\n",
       "      <td>3.311085</td>\n",
       "      <td>-0.042076</td>\n",
       "      <td>-1.232607</td>\n",
       "    </tr>\n",
       "    <tr>\n",
       "      <th>9</th>\n",
       "      <td>competition_open_since_year</td>\n",
       "      <td>1900.0</td>\n",
       "      <td>2015.0</td>\n",
       "      <td>115.0</td>\n",
       "      <td>2010.324840</td>\n",
       "      <td>2012.0</td>\n",
       "      <td>5.515591</td>\n",
       "      <td>-7.235657</td>\n",
       "      <td>124.071304</td>\n",
       "    </tr>\n",
       "    <tr>\n",
       "      <th>10</th>\n",
       "      <td>promo2</td>\n",
       "      <td>0.0</td>\n",
       "      <td>1.0</td>\n",
       "      <td>1.0</td>\n",
       "      <td>0.500564</td>\n",
       "      <td>1.0</td>\n",
       "      <td>0.500000</td>\n",
       "      <td>-0.002255</td>\n",
       "      <td>-1.999999</td>\n",
       "    </tr>\n",
       "    <tr>\n",
       "      <th>11</th>\n",
       "      <td>promo2_since_week</td>\n",
       "      <td>1.0</td>\n",
       "      <td>52.0</td>\n",
       "      <td>51.0</td>\n",
       "      <td>23.619033</td>\n",
       "      <td>22.0</td>\n",
       "      <td>14.310057</td>\n",
       "      <td>0.178723</td>\n",
       "      <td>-1.184046</td>\n",
       "    </tr>\n",
       "    <tr>\n",
       "      <th>12</th>\n",
       "      <td>promo2_since_year</td>\n",
       "      <td>2009.0</td>\n",
       "      <td>2015.0</td>\n",
       "      <td>6.0</td>\n",
       "      <td>2012.793297</td>\n",
       "      <td>2013.0</td>\n",
       "      <td>1.662657</td>\n",
       "      <td>-0.784436</td>\n",
       "      <td>-0.210075</td>\n",
       "    </tr>\n",
       "    <tr>\n",
       "      <th>13</th>\n",
       "      <td>is_promo</td>\n",
       "      <td>0.0</td>\n",
       "      <td>1.0</td>\n",
       "      <td>1.0</td>\n",
       "      <td>0.155231</td>\n",
       "      <td>0.0</td>\n",
       "      <td>0.362124</td>\n",
       "      <td>1.904152</td>\n",
       "      <td>1.625796</td>\n",
       "    </tr>\n",
       "  </tbody>\n",
       "</table>\n",
       "</div>"
      ],
      "text/plain": [
       "                      attributes     mim       max     range         mean  \\\n",
       "0                          store     1.0    1115.0    1114.0   558.429727   \n",
       "1                    day_of_week     1.0       7.0       6.0     3.998341   \n",
       "2                          sales     0.0   41551.0   41551.0  5773.818972   \n",
       "3                      customers     0.0    7388.0    7388.0   633.145946   \n",
       "4                           open     0.0       1.0       1.0     0.830107   \n",
       "5                          promo     0.0       1.0       1.0     0.381515   \n",
       "6                 school_holiday     0.0       1.0       1.0     0.178647   \n",
       "7           competition_distance    20.0  200000.0  199980.0  5935.442677   \n",
       "8   competition_open_since_month     1.0      12.0      11.0     6.786849   \n",
       "9    competition_open_since_year  1900.0    2015.0     115.0  2010.324840   \n",
       "10                        promo2     0.0       1.0       1.0     0.500564   \n",
       "11             promo2_since_week     1.0      52.0      51.0    23.619033   \n",
       "12             promo2_since_year  2009.0    2015.0       6.0  2012.793297   \n",
       "13                      is_promo     0.0       1.0       1.0     0.155231   \n",
       "\n",
       "    median           std       skew    kurtosis  \n",
       "0    558.0    321.908493  -0.000955   -1.200524  \n",
       "1      4.0      1.997390   0.001593   -1.246873  \n",
       "2   5744.0   3849.924283   0.641460    1.778375  \n",
       "3    609.0    464.411506   1.598650    7.091773  \n",
       "4      1.0      0.375539  -1.758045    1.090723  \n",
       "5      0.0      0.485758   0.487838   -1.762018  \n",
       "6      0.0      0.383056   1.677842    0.815154  \n",
       "7   2330.0  12547.646829  10.242344  147.789712  \n",
       "8      7.0      3.311085  -0.042076   -1.232607  \n",
       "9   2012.0      5.515591  -7.235657  124.071304  \n",
       "10     1.0      0.500000  -0.002255   -1.999999  \n",
       "11    22.0     14.310057   0.178723   -1.184046  \n",
       "12  2013.0      1.662657  -0.784436   -0.210075  \n",
       "13     0.0      0.362124   1.904152    1.625796  "
      ]
     },
     "execution_count": 24,
     "metadata": {},
     "output_type": "execute_result"
    }
   ],
   "source": [
    "#obs. T = Transpose\n",
    "# Noção de negocios a partir dessas métricas(m) e erros\n",
    "\n",
    "# Central Tendency - Mean Median\n",
    "# média\n",
    "ct1 = pd.DataFrame(num_attributes.apply(np.mean)).T\n",
    "# mediana\n",
    "ct2 = pd.DataFrame(num_attributes.apply(np.median)).T\n",
    "\n",
    "# Dispersion - std, min, max, range, skew, kurtsosis\n",
    "# Desvio padrão\n",
    "d1 = pd.DataFrame(num_attributes.apply(np.std)).T\n",
    "# mínimo\n",
    "d2 = pd.DataFrame(num_attributes.apply(min)).T\n",
    "# máximo\n",
    "d3 = pd.DataFrame(num_attributes.apply(max)).T\n",
    "\n",
    "# Range\n",
    "d4 = pd.DataFrame(num_attributes.apply(lambda x: x.max() - x.min())).T\n",
    "# Skew\n",
    "d5 = pd.DataFrame(num_attributes.apply(lambda x: x.skew())).T\n",
    "# Kurtosis\n",
    "d6 = pd.DataFrame(num_attributes.apply(lambda x: x.kurtosis())).T\n",
    "\n",
    "# concatenate da classe pandas na ordem na lista que quero ver\n",
    "m = pd.concat([d2, d3, d4, ct1, ct2, d1, d5, d6]).T.reset_index()\n",
    "# dá nome as colunas\n",
    "m.columns = ([\"attributes\", \"mim\", \" max\", \"range\",\"mean\" ,\"median\" ,\"std\" ,\"skew\" ,\"kurtosis\"])\n",
    "m"
   ]
  },
  {
   "cell_type": "code",
   "execution_count": 25,
   "id": "daf7bee0",
   "metadata": {},
   "outputs": [
    {
     "name": "stderr",
     "output_type": "stream",
     "text": [
      "/Users/raquelrocha/opt/anaconda3/lib/python3.8/site-packages/seaborn/distributions.py:2551: FutureWarning: `distplot` is a deprecated function and will be removed in a future version. Please adapt your code to use either `displot` (a figure-level function with similar flexibility) or `histplot` (an axes-level function for histograms).\n",
      "  warnings.warn(msg, FutureWarning)\n"
     ]
    },
    {
     "data": {
      "text/plain": [
       "<AxesSubplot:xlabel='sales', ylabel='Density'>"
      ]
     },
     "execution_count": 25,
     "metadata": {},
     "output_type": "execute_result"
    },
    {
     "data": {
      "image/png": "[encoded data removed]",
      "text/plain": [
       "<Figure size 432x288 with 1 Axes>"
      ]
     },
     "metadata": {
      "needs_background": "light"
     },
     "output_type": "display_data"
    }
   ],
   "source": [
    "# Exemplo da distribuição das vendas(sales)\n",
    "sns.distplot( df1[\"sales\"])"
   ]
  },
  {
   "cell_type": "code",
   "execution_count": 26,
   "id": "a1f8d4cd",
   "metadata": {},
   "outputs": [
    {
     "name": "stderr",
     "output_type": "stream",
     "text": [
      "/Users/raquelrocha/opt/anaconda3/lib/python3.8/site-packages/seaborn/distributions.py:2551: FutureWarning: `distplot` is a deprecated function and will be removed in a future version. Please adapt your code to use either `displot` (a figure-level function with similar flexibility) or `histplot` (an axes-level function for histograms).\n",
      "  warnings.warn(msg, FutureWarning)\n"
     ]
    },
    {
     "data": {
      "text/plain": [
       "<AxesSubplot:xlabel='competition_distance', ylabel='Density'>"
      ]
     },
     "execution_count": 26,
     "metadata": {},
     "output_type": "execute_result"
    },
    {
     "data": {
      "image/png": "[encoded data removed]",
      "text/plain": [
       "<Figure size 432x288 with 1 Axes>"
      ]
     },
     "metadata": {
      "needs_background": "light"
     },
     "output_type": "display_data"
    }
   ],
   "source": [
    "# Exemplo da distribuição da competition_distance\n",
    "sns.distplot( df1[\"competition_distance\"])"
   ]
  },
  {
   "cell_type": "markdown",
   "id": "4ccc8aee",
   "metadata": {},
   "source": [
    "### 1.7.2 Categorical Attributes (Boxplot - vc tem medidas de desperção e tendência central em um local só ) "
   ]
  },
  {
   "cell_type": "code",
   "execution_count": 27,
   "id": "0a8ed9f0",
   "metadata": {},
   "outputs": [
    {
     "data": {
      "text/plain": [
       "state_holiday      4\n",
       "store_type         4\n",
       "assortment         3\n",
       "promo_interval     4\n",
       "month_map         12\n",
       "dtype: int64"
      ]
     },
     "execution_count": 27,
     "metadata": {},
     "output_type": "execute_result"
    }
   ],
   "source": [
    "# níveis cada variável categórica tem\n",
    "cat_attributes.apply(lambda x: x.unique().shape[0])"
   ]
  },
  {
   "cell_type": "code",
   "execution_count": 28,
   "id": "265875a4",
   "metadata": {},
   "outputs": [
    {
     "data": {
      "text/plain": [
       "<AxesSubplot:xlabel='state_holiday', ylabel='sales'>"
      ]
     },
     "execution_count": 28,
     "metadata": {},
     "output_type": "execute_result"
    },
    {
     "data": {
      "image/png": "[encoded data removed]",
      "text/plain": [
       "<Figure size 432x288 with 1 Axes>"
      ]
     },
     "metadata": {
      "needs_background": "light"
     },
     "output_type": "display_data"
    }
   ],
   "source": [
    "# Construir o boxplot\n",
    "# Filtro 2 condições state_holiday e sales \n",
    "aux1 = df1[(df1[\"state_holiday\"] !=0) & (df1[\"sales\"] >0)]\n",
    "# x(linha de referência ,nome da categoria) Y(o que vai medir, a dispersão data(dataframe)) \n",
    "sns.boxplot(x=\"state_holiday\", y=\"sales\", data=aux1)"
   ]
  },
  {
   "cell_type": "code",
   "execution_count": 29,
   "id": "a536a875",
   "metadata": {
    "scrolled": true
   },
   "outputs": [
    {
     "data": {
      "text/plain": [
       "<AxesSubplot:xlabel='assortment', ylabel='sales'>"
      ]
     },
     "execution_count": 29,
     "metadata": {},
     "output_type": "execute_result"
    },
    {
     "data": {
      "image/png": "[encoded data removed]",
      "text/plain": [
       "<Figure size 432x288 with 3 Axes>"
      ]
     },
     "metadata": {
      "needs_background": "light"
     },
     "output_type": "display_data"
    }
   ],
   "source": [
    "#colocando outras variáveis lado a lado\n",
    "aux1 = df1[(df1[\"state_holiday\"] !=0) & (df1[\"sales\"] >0)]\n",
    "\n",
    "plt.subplot (1, 3, 1)\n",
    "sns.boxplot(x=\"state_holiday\", y=\"sales\", data=aux1)\n",
    "\n",
    "plt.subplot (1, 3, 2)\n",
    "sns.boxplot(x=\"store_type\", y=\"sales\", data=aux1)\n",
    "\n",
    "plt.subplot (1, 3, 3)\n",
    "sns.boxplot(x=\"assortment\", y=\"sales\", data=aux1)"
   ]
  },
  {
   "cell_type": "markdown",
   "id": "06a62658",
   "metadata": {
    "heading_collapsed": true
   },
   "source": [
    "# 2.0 Feature Engineering (Passo 2)\n",
    "### (criar as variáveis, criar lista de hipóteses e validar as hipóteses)"
   ]
  },
  {
   "cell_type": "code",
   "execution_count": 30,
   "id": "b91021be",
   "metadata": {
    "hidden": true
   },
   "outputs": [
    {
     "data": {
      "image/png": "[encoded data removed]",
      "text/plain": [
       "<IPython.core.display.Image object>"
      ]
     },
     "execution_count": 30,
     "metadata": {},
     "output_type": "execute_result"
    }
   ],
   "source": [
    "# aula 8 formar o mapa np=o stite coggle, salvar imagem e puchar ro arqvo jupyter\n",
    "Image(\"MindMapHypothesis.png\")"
   ]
  },
  {
   "cell_type": "code",
   "execution_count": 31,
   "id": "cd42d8c9",
   "metadata": {
    "hidden": true
   },
   "outputs": [],
   "source": [
    "#Aula 10\n",
    "df2 = df1.copy()"
   ]
  },
  {
   "cell_type": "markdown",
   "id": "f8de08ca",
   "metadata": {
    "hidden": true
   },
   "source": [
    "## 2.1 Criação das Hipóteses (aula 9)"
   ]
  },
  {
   "cell_type": "markdown",
   "id": "2a58950f",
   "metadata": {
    "heading_collapsed": true,
    "hidden": true
   },
   "source": [
    "### 2.1.1 Hipoteses Loja"
   ]
  },
  {
   "cell_type": "markdown",
   "id": "388967d7",
   "metadata": {
    "hidden": true
   },
   "source": [
    "**1.** Lojas com número maior de funcionários deveriam vender mais.\n",
    "\n",
    "**2.** Lojas com maior capacidade de estoque deveriam vender mais.\n",
    "\n",
    "**3.** Lojas com maior porte deveriam vender mais.\n",
    "\n",
    "**4.** Lojas com maior sortimentos deveriam vender mais.\n",
    "\n",
    "**5.** Lojas com competidores mais próximos deveriam vender menos.\n",
    "\n",
    "**6.** Lojas com competidores à mais tempo deveriam vendem mais."
   ]
  },
  {
   "cell_type": "markdown",
   "id": "a60e2df7",
   "metadata": {
    "heading_collapsed": true,
    "hidden": true
   },
   "source": [
    "### 2.1.2 Hipoteses Produto"
   ]
  },
  {
   "cell_type": "markdown",
   "id": "b6be3cca",
   "metadata": {
    "hidden": true
   },
   "source": [
    "**1.** Lojas que investem mais em Marketing deveriam vender mais.\n",
    "\n",
    "**2.** Lojas com maior exposição de produto deveriam vender mais.\n",
    "\n",
    "**3.** Lojas com produtos com preço menor deveriam vender mais.\n",
    "\n",
    "**4.** Lojas com promoções mais agressivas ( descontos maiores ), deveriam vender mais.\n",
    "\n",
    "**5.** Lojas com promoções ativas por mais tempo deveriam vender mais.\n",
    "\n",
    "**6.** Lojas com mais dias de promoção deveriam vender mais.\n",
    "\n",
    "**7.** Lojas com mais promoções consecutivas deveriam vender mais."
   ]
  },
  {
   "cell_type": "markdown",
   "id": "17cb09ea",
   "metadata": {
    "heading_collapsed": true,
    "hidden": true
   },
   "source": [
    "### 2.1.3 Hipoteses Tempo"
   ]
  },
  {
   "cell_type": "markdown",
   "id": "ef64f058",
   "metadata": {
    "hidden": true
   },
   "source": [
    "**1.** Lojas abertas durante o feriado de Natal deveriam vender mais.\n",
    "\n",
    "**2.** Lojas deveriam vender mais ao longo dos anos.\n",
    "\n",
    "**3.** Lojas deveriam vender mais no segundo semestre do ano.\n",
    "\n",
    "**4.** Lojas deveriam vender mais depois do dia 10 de cada mês.\n",
    "\n",
    "**5.** Lojas deveriam vender menos aos finais de semana.\n",
    "\n",
    "**6.** Lojas deveriam vender menos durante os feriados escolares."
   ]
  },
  {
   "cell_type": "markdown",
   "id": "401666df",
   "metadata": {
    "hidden": true
   },
   "source": [
    "### 2.2 Lista Final de Hipóteses"
   ]
  },
  {
   "cell_type": "markdown",
   "id": "9ec6b1cd",
   "metadata": {
    "hidden": true
   },
   "source": [
    "**1.** Lojas com maior sortimentos deveriam vender mais.\n",
    "\n",
    "**2.** Lojas com competidores mais próximos deveriam vender menos.\n",
    "\n",
    "**3.** Lojas com competidores à mais tempo deveriam vendem mais.\n",
    "\n",
    "**4.** Lojas com promoções ativas por mais tempo deveriam vender mais.\n",
    "\n",
    "**5.** Lojas com mais dias de promoção deveriam vender mais.\n",
    "\n",
    "**6.** Lojas com mais promoções consecutivas deveriam vender mais.\n",
    "\n",
    "**7.** Lojas abertas durante o feriado de Natal deveriam vender mais.\n",
    "\n",
    "**8.** Lojas deveriam vender mais ao longo dos anos.\n",
    "\n",
    "**9.** Lojas deveriam vender mais no segundo semestre do ano.\n",
    "\n",
    "**10.** Lojas deveriam vender mais depois do dia 10 de cada mês.\n",
    "\n",
    "**11.** Lojas deveriam vender menos aos finais de semana.\n",
    "\n",
    "**12.** Lojas deveriam vender menos durante os feriados escolares."
   ]
  },
  {
   "cell_type": "markdown",
   "id": "b0e2f4e5",
   "metadata": {
    "hidden": true
   },
   "source": [
    "### 2.3 Feature Engineering (Aula 10 -Começamos copiando o arquivo df1 \"df1.copy()\")"
   ]
  },
  {
   "cell_type": "code",
   "execution_count": 32,
   "id": "df266d97",
   "metadata": {
    "hidden": true
   },
   "outputs": [],
   "source": [
    "# Variáveis a ser derivadas da variavel original Date \n",
    "# year \n",
    "df2[\"year\"] = df2[\"date\"].dt.year\n",
    "\n",
    "# month\n",
    "df2[\"month\"] = df2[\"date\"].dt.month\n",
    "\n",
    "# day\n",
    "df2[\"day\"] = df2[\"date\"].dt.day\n",
    "\n",
    "# week of year\n",
    "df2[\"week_of_year\"] = df2[\"date\"].dt.isocalendar().week\n",
    "\n",
    "# year week (%Y ano, %W semana)\n",
    "df2[\"year_week\"] = df2[\"date\"].dt.strftime(\"%Y-%W\")\n",
    "\n",
    "\n",
    "# competition since (esta em duas linhas nos dados, devemos juntar elas em uma só) day=1 para coeaçar no dia 1, considerando o mês como um todo\n",
    "# método \"datetime.datetime( year=x[\"competition_open_since_year\"], month=x[\"competition_open_since_month\"], day=1)\"\n",
    "# função em cima do método acima \"df2.apply(lambda x: datetime.datetime( year=x[\"competition_open_since_year\"], month=x[\"competition_open_since_month\"], day=1)\"\n",
    "# se der problema de datetime not define, só importar o datetime\n",
    "df2[\"competition_since\"] = df2.apply( lambda x: datetime.datetime( year=x[\"competition_open_since_year\"], month=x[\"competition_open_since_month\"], day=1 ), axis=1 )\n",
    "# diferença das duas (para conseguir o mês, P.S. subtrai o date comm o q vc quer)\n",
    "df2[\"competition_time_month\"] = ((df2[\"date\"] - df2[\"competition_since\"])/30).apply( lambda x: x.days).astype(int)\n",
    "\n",
    "# promo since (juntar as duas informações(precisam estar como string),semana e o ano, e depois transformar no mês) (-) é para dar espaço entre as duas informações\n",
    "df2[\"promo_since\"] = df2[\"promo2_since_year\"].astype(str) + \"-\" + df2[\"promo2_since_week\"].astype(str)\n",
    "# transformar novamente em data , (x + \"-1\", \"%Y-%W-%w\") = formato de resultadoano, semana do ano, semana de domingo a domingo (o w minúsculo)\n",
    "df2[\"promo_since\"] = df2[\"promo_since\"].apply(lambda x: datetime.datetime.strptime (x + \"-1\", \"%Y-%W-%w\") - datetime.timedelta(days=7))\n",
    "#subtrai as duas datas (subtrai o date comm o q vc quer)\n",
    "df2[\"promo_time_week\"]=((df2[\"date\"] - df2[\"promo_since\"])/7).apply(lambda x: x.days).astype(int)\n",
    "\n",
    "# assortment, usar o apply para colocar em todas as linhas a função lambda, (a=basic, b=extra, c=extended (informações pegas no kaggle))\n",
    "df2[\"assortment\"] = df2[\"assortment\"].apply(lambda x: \"basic\" if x ==\"a\" else \"extra\" if x ==\"b\" else \"extended\")\n",
    "\n",
    "# state holiday usar o apply para colocar em todas as linhas a função lambda, (a=public holiday, b=easter holiday, c=christmas (informações pegas no kaggle))\n",
    "df2[\"state_holiday\"] = df2[\"state_holiday\"].apply(lambda x: \"public_holiday\" if x ==\"a\" else \"easter_holiday\" if x ==\"b\" else \"christmas\" if x==\"c\" else \"regular_day\")\n",
    "\n"
   ]
  },
  {
   "cell_type": "code",
   "execution_count": 33,
   "id": "1aec9a7e",
   "metadata": {
    "hidden": true,
    "scrolled": true
   },
   "outputs": [
    {
     "data": {
      "text/html": [
       "<div>\n",
       "<style scoped>\n",
       "    .dataframe tbody tr th:only-of-type {\n",
       "        vertical-align: middle;\n",
       "    }\n",
       "\n",
       "    .dataframe tbody tr th {\n",
       "        vertical-align: top;\n",
       "    }\n",
       "\n",
       "    .dataframe thead th {\n",
       "        text-align: right;\n",
       "    }\n",
       "</style>\n",
       "<table border=\"1\" class=\"dataframe\">\n",
       "  <thead>\n",
       "    <tr style=\"text-align: right;\">\n",
       "      <th></th>\n",
       "      <th>0</th>\n",
       "      <th>1</th>\n",
       "      <th>2</th>\n",
       "      <th>3</th>\n",
       "      <th>4</th>\n",
       "    </tr>\n",
       "  </thead>\n",
       "  <tbody>\n",
       "    <tr>\n",
       "      <th>store</th>\n",
       "      <td>1</td>\n",
       "      <td>2</td>\n",
       "      <td>3</td>\n",
       "      <td>4</td>\n",
       "      <td>5</td>\n",
       "    </tr>\n",
       "    <tr>\n",
       "      <th>day_of_week</th>\n",
       "      <td>5</td>\n",
       "      <td>5</td>\n",
       "      <td>5</td>\n",
       "      <td>5</td>\n",
       "      <td>5</td>\n",
       "    </tr>\n",
       "    <tr>\n",
       "      <th>date</th>\n",
       "      <td>2015-07-31 00:00:00</td>\n",
       "      <td>2015-07-31 00:00:00</td>\n",
       "      <td>2015-07-31 00:00:00</td>\n",
       "      <td>2015-07-31 00:00:00</td>\n",
       "      <td>2015-07-31 00:00:00</td>\n",
       "    </tr>\n",
       "    <tr>\n",
       "      <th>sales</th>\n",
       "      <td>5263</td>\n",
       "      <td>6064</td>\n",
       "      <td>8314</td>\n",
       "      <td>13995</td>\n",
       "      <td>4822</td>\n",
       "    </tr>\n",
       "    <tr>\n",
       "      <th>customers</th>\n",
       "      <td>555</td>\n",
       "      <td>625</td>\n",
       "      <td>821</td>\n",
       "      <td>1498</td>\n",
       "      <td>559</td>\n",
       "    </tr>\n",
       "    <tr>\n",
       "      <th>open</th>\n",
       "      <td>1</td>\n",
       "      <td>1</td>\n",
       "      <td>1</td>\n",
       "      <td>1</td>\n",
       "      <td>1</td>\n",
       "    </tr>\n",
       "    <tr>\n",
       "      <th>promo</th>\n",
       "      <td>1</td>\n",
       "      <td>1</td>\n",
       "      <td>1</td>\n",
       "      <td>1</td>\n",
       "      <td>1</td>\n",
       "    </tr>\n",
       "    <tr>\n",
       "      <th>state_holiday</th>\n",
       "      <td>regular_day</td>\n",
       "      <td>regular_day</td>\n",
       "      <td>regular_day</td>\n",
       "      <td>regular_day</td>\n",
       "      <td>regular_day</td>\n",
       "    </tr>\n",
       "    <tr>\n",
       "      <th>school_holiday</th>\n",
       "      <td>1</td>\n",
       "      <td>1</td>\n",
       "      <td>1</td>\n",
       "      <td>1</td>\n",
       "      <td>1</td>\n",
       "    </tr>\n",
       "    <tr>\n",
       "      <th>store_type</th>\n",
       "      <td>c</td>\n",
       "      <td>a</td>\n",
       "      <td>a</td>\n",
       "      <td>c</td>\n",
       "      <td>a</td>\n",
       "    </tr>\n",
       "    <tr>\n",
       "      <th>assortment</th>\n",
       "      <td>basic</td>\n",
       "      <td>basic</td>\n",
       "      <td>basic</td>\n",
       "      <td>extended</td>\n",
       "      <td>basic</td>\n",
       "    </tr>\n",
       "    <tr>\n",
       "      <th>competition_distance</th>\n",
       "      <td>1270.0</td>\n",
       "      <td>570.0</td>\n",
       "      <td>14130.0</td>\n",
       "      <td>620.0</td>\n",
       "      <td>29910.0</td>\n",
       "    </tr>\n",
       "    <tr>\n",
       "      <th>competition_open_since_month</th>\n",
       "      <td>9</td>\n",
       "      <td>11</td>\n",
       "      <td>12</td>\n",
       "      <td>9</td>\n",
       "      <td>4</td>\n",
       "    </tr>\n",
       "    <tr>\n",
       "      <th>competition_open_since_year</th>\n",
       "      <td>2008</td>\n",
       "      <td>2007</td>\n",
       "      <td>2006</td>\n",
       "      <td>2009</td>\n",
       "      <td>2015</td>\n",
       "    </tr>\n",
       "    <tr>\n",
       "      <th>promo2</th>\n",
       "      <td>0</td>\n",
       "      <td>1</td>\n",
       "      <td>1</td>\n",
       "      <td>0</td>\n",
       "      <td>0</td>\n",
       "    </tr>\n",
       "    <tr>\n",
       "      <th>promo2_since_week</th>\n",
       "      <td>31</td>\n",
       "      <td>13</td>\n",
       "      <td>14</td>\n",
       "      <td>31</td>\n",
       "      <td>31</td>\n",
       "    </tr>\n",
       "    <tr>\n",
       "      <th>promo2_since_year</th>\n",
       "      <td>2015</td>\n",
       "      <td>2010</td>\n",
       "      <td>2011</td>\n",
       "      <td>2015</td>\n",
       "      <td>2015</td>\n",
       "    </tr>\n",
       "    <tr>\n",
       "      <th>promo_interval</th>\n",
       "      <td>0</td>\n",
       "      <td>Jan,Apr,Jul,Oct</td>\n",
       "      <td>Jan,Apr,Jul,Oct</td>\n",
       "      <td>0</td>\n",
       "      <td>0</td>\n",
       "    </tr>\n",
       "    <tr>\n",
       "      <th>month_map</th>\n",
       "      <td>Jul</td>\n",
       "      <td>Jul</td>\n",
       "      <td>Jul</td>\n",
       "      <td>Jul</td>\n",
       "      <td>Jul</td>\n",
       "    </tr>\n",
       "    <tr>\n",
       "      <th>is_promo</th>\n",
       "      <td>0</td>\n",
       "      <td>1</td>\n",
       "      <td>1</td>\n",
       "      <td>0</td>\n",
       "      <td>0</td>\n",
       "    </tr>\n",
       "    <tr>\n",
       "      <th>year</th>\n",
       "      <td>2015</td>\n",
       "      <td>2015</td>\n",
       "      <td>2015</td>\n",
       "      <td>2015</td>\n",
       "      <td>2015</td>\n",
       "    </tr>\n",
       "    <tr>\n",
       "      <th>month</th>\n",
       "      <td>7</td>\n",
       "      <td>7</td>\n",
       "      <td>7</td>\n",
       "      <td>7</td>\n",
       "      <td>7</td>\n",
       "    </tr>\n",
       "    <tr>\n",
       "      <th>day</th>\n",
       "      <td>31</td>\n",
       "      <td>31</td>\n",
       "      <td>31</td>\n",
       "      <td>31</td>\n",
       "      <td>31</td>\n",
       "    </tr>\n",
       "    <tr>\n",
       "      <th>week_of_year</th>\n",
       "      <td>31</td>\n",
       "      <td>31</td>\n",
       "      <td>31</td>\n",
       "      <td>31</td>\n",
       "      <td>31</td>\n",
       "    </tr>\n",
       "    <tr>\n",
       "      <th>year_week</th>\n",
       "      <td>2015-30</td>\n",
       "      <td>2015-30</td>\n",
       "      <td>2015-30</td>\n",
       "      <td>2015-30</td>\n",
       "      <td>2015-30</td>\n",
       "    </tr>\n",
       "    <tr>\n",
       "      <th>competition_since</th>\n",
       "      <td>2008-09-01 00:00:00</td>\n",
       "      <td>2007-11-01 00:00:00</td>\n",
       "      <td>2006-12-01 00:00:00</td>\n",
       "      <td>2009-09-01 00:00:00</td>\n",
       "      <td>2015-04-01 00:00:00</td>\n",
       "    </tr>\n",
       "    <tr>\n",
       "      <th>competition_time_month</th>\n",
       "      <td>84</td>\n",
       "      <td>94</td>\n",
       "      <td>105</td>\n",
       "      <td>71</td>\n",
       "      <td>4</td>\n",
       "    </tr>\n",
       "    <tr>\n",
       "      <th>promo_since</th>\n",
       "      <td>2015-07-27 00:00:00</td>\n",
       "      <td>2010-03-22 00:00:00</td>\n",
       "      <td>2011-03-28 00:00:00</td>\n",
       "      <td>2015-07-27 00:00:00</td>\n",
       "      <td>2015-07-27 00:00:00</td>\n",
       "    </tr>\n",
       "    <tr>\n",
       "      <th>promo_time_week</th>\n",
       "      <td>0</td>\n",
       "      <td>279</td>\n",
       "      <td>226</td>\n",
       "      <td>0</td>\n",
       "      <td>0</td>\n",
       "    </tr>\n",
       "  </tbody>\n",
       "</table>\n",
       "</div>"
      ],
      "text/plain": [
       "                                                0                    1  \\\n",
       "store                                           1                    2   \n",
       "day_of_week                                     5                    5   \n",
       "date                          2015-07-31 00:00:00  2015-07-31 00:00:00   \n",
       "sales                                        5263                 6064   \n",
       "customers                                     555                  625   \n",
       "open                                            1                    1   \n",
       "promo                                           1                    1   \n",
       "state_holiday                         regular_day          regular_day   \n",
       "school_holiday                                  1                    1   \n",
       "store_type                                      c                    a   \n",
       "assortment                                  basic                basic   \n",
       "competition_distance                       1270.0                570.0   \n",
       "competition_open_since_month                    9                   11   \n",
       "competition_open_since_year                  2008                 2007   \n",
       "promo2                                          0                    1   \n",
       "promo2_since_week                              31                   13   \n",
       "promo2_since_year                            2015                 2010   \n",
       "promo_interval                                  0      Jan,Apr,Jul,Oct   \n",
       "month_map                                     Jul                  Jul   \n",
       "is_promo                                        0                    1   \n",
       "year                                         2015                 2015   \n",
       "month                                           7                    7   \n",
       "day                                            31                   31   \n",
       "week_of_year                                   31                   31   \n",
       "year_week                                 2015-30              2015-30   \n",
       "competition_since             2008-09-01 00:00:00  2007-11-01 00:00:00   \n",
       "competition_time_month                         84                   94   \n",
       "promo_since                   2015-07-27 00:00:00  2010-03-22 00:00:00   \n",
       "promo_time_week                                 0                  279   \n",
       "\n",
       "                                                2                    3  \\\n",
       "store                                           3                    4   \n",
       "day_of_week                                     5                    5   \n",
       "date                          2015-07-31 00:00:00  2015-07-31 00:00:00   \n",
       "sales                                        8314                13995   \n",
       "customers                                     821                 1498   \n",
       "open                                            1                    1   \n",
       "promo                                           1                    1   \n",
       "state_holiday                         regular_day          regular_day   \n",
       "school_holiday                                  1                    1   \n",
       "store_type                                      a                    c   \n",
       "assortment                                  basic             extended   \n",
       "competition_distance                      14130.0                620.0   \n",
       "competition_open_since_month                   12                    9   \n",
       "competition_open_since_year                  2006                 2009   \n",
       "promo2                                          1                    0   \n",
       "promo2_since_week                              14                   31   \n",
       "promo2_since_year                            2011                 2015   \n",
       "promo_interval                    Jan,Apr,Jul,Oct                    0   \n",
       "month_map                                     Jul                  Jul   \n",
       "is_promo                                        1                    0   \n",
       "year                                         2015                 2015   \n",
       "month                                           7                    7   \n",
       "day                                            31                   31   \n",
       "week_of_year                                   31                   31   \n",
       "year_week                                 2015-30              2015-30   \n",
       "competition_since             2006-12-01 00:00:00  2009-09-01 00:00:00   \n",
       "competition_time_month                        105                   71   \n",
       "promo_since                   2011-03-28 00:00:00  2015-07-27 00:00:00   \n",
       "promo_time_week                               226                    0   \n",
       "\n",
       "                                                4  \n",
       "store                                           5  \n",
       "day_of_week                                     5  \n",
       "date                          2015-07-31 00:00:00  \n",
       "sales                                        4822  \n",
       "customers                                     559  \n",
       "open                                            1  \n",
       "promo                                           1  \n",
       "state_holiday                         regular_day  \n",
       "school_holiday                                  1  \n",
       "store_type                                      a  \n",
       "assortment                                  basic  \n",
       "competition_distance                      29910.0  \n",
       "competition_open_since_month                    4  \n",
       "competition_open_since_year                  2015  \n",
       "promo2                                          0  \n",
       "promo2_since_week                              31  \n",
       "promo2_since_year                            2015  \n",
       "promo_interval                                  0  \n",
       "month_map                                     Jul  \n",
       "is_promo                                        0  \n",
       "year                                         2015  \n",
       "month                                           7  \n",
       "day                                            31  \n",
       "week_of_year                                   31  \n",
       "year_week                                 2015-30  \n",
       "competition_since             2015-04-01 00:00:00  \n",
       "competition_time_month                          4  \n",
       "promo_since                   2015-07-27 00:00:00  \n",
       "promo_time_week                                 0  "
      ]
     },
     "execution_count": 33,
     "metadata": {},
     "output_type": "execute_result"
    }
   ],
   "source": [
    "# Rodar as colunas para ver os codigos feitos anterior\n",
    "df2.head().T"
   ]
  },
  {
   "cell_type": "markdown",
   "id": "bbfbf871",
   "metadata": {
    "heading_collapsed": true
   },
   "source": [
    "# 3.0 Filtragem de Variáveis (Passo 3) Aula11"
   ]
  },
  {
   "cell_type": "code",
   "execution_count": 34,
   "id": "b8a8c16c",
   "metadata": {
    "hidden": true
   },
   "outputs": [],
   "source": [
    "df3 = df2.copy()"
   ]
  },
  {
   "cell_type": "code",
   "execution_count": null,
   "id": "6955f67c",
   "metadata": {
    "hidden": true
   },
   "outputs": [],
   "source": []
  },
  {
   "cell_type": "code",
   "execution_count": 35,
   "id": "d5e67a6a",
   "metadata": {
    "hidden": true
   },
   "outputs": [
    {
     "data": {
      "text/html": [
       "<div>\n",
       "<style scoped>\n",
       "    .dataframe tbody tr th:only-of-type {\n",
       "        vertical-align: middle;\n",
       "    }\n",
       "\n",
       "    .dataframe tbody tr th {\n",
       "        vertical-align: top;\n",
       "    }\n",
       "\n",
       "    .dataframe thead th {\n",
       "        text-align: right;\n",
       "    }\n",
       "</style>\n",
       "<table border=\"1\" class=\"dataframe\">\n",
       "  <thead>\n",
       "    <tr style=\"text-align: right;\">\n",
       "      <th></th>\n",
       "      <th>store</th>\n",
       "      <th>day_of_week</th>\n",
       "      <th>date</th>\n",
       "      <th>sales</th>\n",
       "      <th>customers</th>\n",
       "      <th>open</th>\n",
       "      <th>promo</th>\n",
       "      <th>state_holiday</th>\n",
       "      <th>school_holiday</th>\n",
       "      <th>store_type</th>\n",
       "      <th>...</th>\n",
       "      <th>is_promo</th>\n",
       "      <th>year</th>\n",
       "      <th>month</th>\n",
       "      <th>day</th>\n",
       "      <th>week_of_year</th>\n",
       "      <th>year_week</th>\n",
       "      <th>competition_since</th>\n",
       "      <th>competition_time_month</th>\n",
       "      <th>promo_since</th>\n",
       "      <th>promo_time_week</th>\n",
       "    </tr>\n",
       "  </thead>\n",
       "  <tbody>\n",
       "    <tr>\n",
       "      <th>0</th>\n",
       "      <td>1</td>\n",
       "      <td>5</td>\n",
       "      <td>2015-07-31</td>\n",
       "      <td>5263</td>\n",
       "      <td>555</td>\n",
       "      <td>1</td>\n",
       "      <td>1</td>\n",
       "      <td>regular_day</td>\n",
       "      <td>1</td>\n",
       "      <td>c</td>\n",
       "      <td>...</td>\n",
       "      <td>0</td>\n",
       "      <td>2015</td>\n",
       "      <td>7</td>\n",
       "      <td>31</td>\n",
       "      <td>31</td>\n",
       "      <td>2015-30</td>\n",
       "      <td>2008-09-01</td>\n",
       "      <td>84</td>\n",
       "      <td>2015-07-27</td>\n",
       "      <td>0</td>\n",
       "    </tr>\n",
       "    <tr>\n",
       "      <th>1</th>\n",
       "      <td>2</td>\n",
       "      <td>5</td>\n",
       "      <td>2015-07-31</td>\n",
       "      <td>6064</td>\n",
       "      <td>625</td>\n",
       "      <td>1</td>\n",
       "      <td>1</td>\n",
       "      <td>regular_day</td>\n",
       "      <td>1</td>\n",
       "      <td>a</td>\n",
       "      <td>...</td>\n",
       "      <td>1</td>\n",
       "      <td>2015</td>\n",
       "      <td>7</td>\n",
       "      <td>31</td>\n",
       "      <td>31</td>\n",
       "      <td>2015-30</td>\n",
       "      <td>2007-11-01</td>\n",
       "      <td>94</td>\n",
       "      <td>2010-03-22</td>\n",
       "      <td>279</td>\n",
       "    </tr>\n",
       "    <tr>\n",
       "      <th>2</th>\n",
       "      <td>3</td>\n",
       "      <td>5</td>\n",
       "      <td>2015-07-31</td>\n",
       "      <td>8314</td>\n",
       "      <td>821</td>\n",
       "      <td>1</td>\n",
       "      <td>1</td>\n",
       "      <td>regular_day</td>\n",
       "      <td>1</td>\n",
       "      <td>a</td>\n",
       "      <td>...</td>\n",
       "      <td>1</td>\n",
       "      <td>2015</td>\n",
       "      <td>7</td>\n",
       "      <td>31</td>\n",
       "      <td>31</td>\n",
       "      <td>2015-30</td>\n",
       "      <td>2006-12-01</td>\n",
       "      <td>105</td>\n",
       "      <td>2011-03-28</td>\n",
       "      <td>226</td>\n",
       "    </tr>\n",
       "    <tr>\n",
       "      <th>3</th>\n",
       "      <td>4</td>\n",
       "      <td>5</td>\n",
       "      <td>2015-07-31</td>\n",
       "      <td>13995</td>\n",
       "      <td>1498</td>\n",
       "      <td>1</td>\n",
       "      <td>1</td>\n",
       "      <td>regular_day</td>\n",
       "      <td>1</td>\n",
       "      <td>c</td>\n",
       "      <td>...</td>\n",
       "      <td>0</td>\n",
       "      <td>2015</td>\n",
       "      <td>7</td>\n",
       "      <td>31</td>\n",
       "      <td>31</td>\n",
       "      <td>2015-30</td>\n",
       "      <td>2009-09-01</td>\n",
       "      <td>71</td>\n",
       "      <td>2015-07-27</td>\n",
       "      <td>0</td>\n",
       "    </tr>\n",
       "    <tr>\n",
       "      <th>4</th>\n",
       "      <td>5</td>\n",
       "      <td>5</td>\n",
       "      <td>2015-07-31</td>\n",
       "      <td>4822</td>\n",
       "      <td>559</td>\n",
       "      <td>1</td>\n",
       "      <td>1</td>\n",
       "      <td>regular_day</td>\n",
       "      <td>1</td>\n",
       "      <td>a</td>\n",
       "      <td>...</td>\n",
       "      <td>0</td>\n",
       "      <td>2015</td>\n",
       "      <td>7</td>\n",
       "      <td>31</td>\n",
       "      <td>31</td>\n",
       "      <td>2015-30</td>\n",
       "      <td>2015-04-01</td>\n",
       "      <td>4</td>\n",
       "      <td>2015-07-27</td>\n",
       "      <td>0</td>\n",
       "    </tr>\n",
       "  </tbody>\n",
       "</table>\n",
       "<p>5 rows × 29 columns</p>\n",
       "</div>"
      ],
      "text/plain": [
       "   store  day_of_week       date  sales  customers  open  promo state_holiday  \\\n",
       "0      1            5 2015-07-31   5263        555     1      1   regular_day   \n",
       "1      2            5 2015-07-31   6064        625     1      1   regular_day   \n",
       "2      3            5 2015-07-31   8314        821     1      1   regular_day   \n",
       "3      4            5 2015-07-31  13995       1498     1      1   regular_day   \n",
       "4      5            5 2015-07-31   4822        559     1      1   regular_day   \n",
       "\n",
       "   school_holiday store_type  ... is_promo  year  month  day  week_of_year  \\\n",
       "0               1          c  ...        0  2015      7   31            31   \n",
       "1               1          a  ...        1  2015      7   31            31   \n",
       "2               1          a  ...        1  2015      7   31            31   \n",
       "3               1          c  ...        0  2015      7   31            31   \n",
       "4               1          a  ...        0  2015      7   31            31   \n",
       "\n",
       "   year_week  competition_since competition_time_month promo_since  \\\n",
       "0    2015-30         2008-09-01                     84  2015-07-27   \n",
       "1    2015-30         2007-11-01                     94  2010-03-22   \n",
       "2    2015-30         2006-12-01                    105  2011-03-28   \n",
       "3    2015-30         2009-09-01                     71  2015-07-27   \n",
       "4    2015-30         2015-04-01                      4  2015-07-27   \n",
       "\n",
       "   promo_time_week  \n",
       "0                0  \n",
       "1              279  \n",
       "2              226  \n",
       "3                0  \n",
       "4                0  \n",
       "\n",
       "[5 rows x 29 columns]"
      ]
     },
     "execution_count": 35,
     "metadata": {},
     "output_type": "execute_result"
    }
   ],
   "source": [
    "df3.head()"
   ]
  },
  {
   "cell_type": "markdown",
   "id": "9c99b919",
   "metadata": {
    "hidden": true
   },
   "source": [
    "## 3.1 Filtragem das linhas\n",
    "### começa com esse para diminuir volume dos dados que irá trabalhar."
   ]
  },
  {
   "cell_type": "code",
   "execution_count": 36,
   "id": "dd5b10bd",
   "metadata": {
    "hidden": true
   },
   "outputs": [],
   "source": [
    "# o que iremos filtrar (\"open\" != 0 \"sales\" > 0)\n",
    "df3 = df3[(df3[\"open\"] != 0) & (df3[\"sales\"] > 0)]"
   ]
  },
  {
   "cell_type": "markdown",
   "id": "255c5306",
   "metadata": {
    "hidden": true
   },
   "source": [
    "## 3.2 Seleção das colunas"
   ]
  },
  {
   "cell_type": "code",
   "execution_count": 37,
   "id": "34ca206b",
   "metadata": {
    "hidden": true
   },
   "outputs": [],
   "source": [
    "#o que não queremos (\"customers\", \"open\", \"promo_interval\", \"month_map\")\n",
    "cols_drop = [\"customers\", \"open\",\"promo_interval\", \"month_map\"]\n",
    "# deletar (classe pandas \"drop\")\n",
    "df3 = df3.drop(cols_drop,axis=1)"
   ]
  },
  {
   "cell_type": "code",
   "execution_count": 38,
   "id": "45019112",
   "metadata": {
    "hidden": true
   },
   "outputs": [
    {
     "data": {
      "text/plain": [
       "Index(['store', 'day_of_week', 'date', 'sales', 'promo', 'state_holiday',\n",
       "       'school_holiday', 'store_type', 'assortment', 'competition_distance',\n",
       "       'competition_open_since_month', 'competition_open_since_year', 'promo2',\n",
       "       'promo2_since_week', 'promo2_since_year', 'is_promo', 'year', 'month',\n",
       "       'day', 'week_of_year', 'year_week', 'competition_since',\n",
       "       'competition_time_month', 'promo_since', 'promo_time_week'],\n",
       "      dtype='object')"
      ]
     },
     "execution_count": 38,
     "metadata": {},
     "output_type": "execute_result"
    }
   ],
   "source": [
    "#verificar\n",
    "df3.columns"
   ]
  },
  {
   "cell_type": "markdown",
   "id": "129827d6",
   "metadata": {},
   "source": [
    "# 4.0 Análise Exploratória dos Dados - EDA (Passo 4)\n",
    "### objetivos da análise exploratória dos dados"
   ]
  },
  {
   "cell_type": "code",
   "execution_count": 39,
   "id": "b937b4a8",
   "metadata": {},
   "outputs": [],
   "source": [
    "df4 = df3.copy()"
   ]
  },
  {
   "cell_type": "markdown",
   "id": "81bbbd82",
   "metadata": {
    "heading_collapsed": true
   },
   "source": [
    "## 4.1 Análise univariada"
   ]
  },
  {
   "cell_type": "markdown",
   "id": "5d055a36",
   "metadata": {
    "hidden": true
   },
   "source": [
    "### 4.1.1 Responde variable"
   ]
  },
  {
   "cell_type": "code",
   "execution_count": 40,
   "id": "a26b00a5",
   "metadata": {
    "hidden": true
   },
   "outputs": [
    {
     "data": {
      "text/plain": [
       "<seaborn.axisgrid.FacetGrid at 0x10f69ed60>"
      ]
     },
     "execution_count": 40,
     "metadata": {},
     "output_type": "execute_result"
    },
    {
     "data": {
      "image/png": "[encoded data removed]",
      "text/plain": [
       "<Figure size 360x360 with 1 Axes>"
      ]
     },
     "metadata": {
      "needs_background": "light"
     },
     "output_type": "display_data"
    }
   ],
   "source": [
    "# distribuição das variáveis pode usar tanto \"displot\" quanto \"histplot\"\n",
    "sns.displot(df4[\"sales\"])"
   ]
  },
  {
   "cell_type": "code",
   "execution_count": 41,
   "id": "5a9804b0",
   "metadata": {
    "hidden": true
   },
   "outputs": [
    {
     "data": {
      "text/plain": [
       "<seaborn.axisgrid.FacetGrid at 0x146908190>"
      ]
     },
     "execution_count": 41,
     "metadata": {},
     "output_type": "execute_result"
    },
    {
     "data": {
      "image/png": "[encoded data removed]",
      "text/plain": [
       "<Figure size 360x360 with 1 Axes>"
      ]
     },
     "metadata": {
      "needs_background": "light"
     },
     "output_type": "display_data"
    }
   ],
   "source": [
    "# se usar o \"kde\" mostra um histograma (ver pq não apareceu)\n",
    "sns.displot(df4[\"sales\"], kde=False)"
   ]
  },
  {
   "cell_type": "code",
   "execution_count": 42,
   "id": "a97d6e3c",
   "metadata": {
    "hidden": true
   },
   "outputs": [
    {
     "data": {
      "text/plain": [
       "<seaborn.axisgrid.FacetGrid at 0x10f69e9d0>"
      ]
     },
     "execution_count": 42,
     "metadata": {},
     "output_type": "execute_result"
    },
    {
     "data": {
      "image/png": "[encoded data removed]",
      "text/plain": [
       "<Figure size 360x360 with 1 Axes>"
      ]
     },
     "metadata": {
      "needs_background": "light"
     },
     "output_type": "display_data"
    }
   ],
   "source": [
    "# formas de transformar o gráfico mais próximo de uma Distribuição normal\n",
    "# pode usar bloxpot, exponencial\n",
    "sns.displot(np.log (df4[\"sales\"]))\n"
   ]
  },
  {
   "cell_type": "markdown",
   "id": "5dac4e7c",
   "metadata": {
    "hidden": true
   },
   "source": [
    "### 4.1.2 Numerical variable"
   ]
  },
  {
   "cell_type": "code",
   "execution_count": 43,
   "id": "24a507cf",
   "metadata": {
    "hidden": true
   },
   "outputs": [
    {
     "data": {
      "image/png": "[encoded data removed]",
      "text/plain": [
       "<Figure size 432x288 with 16 Axes>"
      ]
     },
     "metadata": {
      "needs_background": "light"
     },
     "output_type": "display_data"
    }
   ],
   "source": [
    "# plotar histograma de todas as variáveis numéricas\n",
    "# Bins = Cada caixa, reatanguulo que vc coloca alguns dados agrupados\n",
    "# \";\" para não ficar mostrando a leitura dos dados antes do gráfico\n",
    "num_attributes.hist(bins=25);"
   ]
  },
  {
   "cell_type": "markdown",
   "id": "ec4dba0b",
   "metadata": {
    "hidden": true
   },
   "source": [
    "### 4.1.2 Categorical variable\n",
    "#### p.s. tem muito sobre na internet de como transformar a categórica em númerica."
   ]
  },
  {
   "cell_type": "code",
   "execution_count": 44,
   "id": "bd9962a0",
   "metadata": {
    "hidden": true
   },
   "outputs": [
    {
     "data": {
      "text/html": [
       "<div>\n",
       "<style scoped>\n",
       "    .dataframe tbody tr th:only-of-type {\n",
       "        vertical-align: middle;\n",
       "    }\n",
       "\n",
       "    .dataframe tbody tr th {\n",
       "        vertical-align: top;\n",
       "    }\n",
       "\n",
       "    .dataframe thead th {\n",
       "        text-align: right;\n",
       "    }\n",
       "</style>\n",
       "<table border=\"1\" class=\"dataframe\">\n",
       "  <thead>\n",
       "    <tr style=\"text-align: right;\">\n",
       "      <th></th>\n",
       "      <th>state_holiday</th>\n",
       "      <th>store_type</th>\n",
       "      <th>assortment</th>\n",
       "      <th>promo_interval</th>\n",
       "      <th>month_map</th>\n",
       "    </tr>\n",
       "  </thead>\n",
       "  <tbody>\n",
       "    <tr>\n",
       "      <th>0</th>\n",
       "      <td>0</td>\n",
       "      <td>c</td>\n",
       "      <td>a</td>\n",
       "      <td>0</td>\n",
       "      <td>Jul</td>\n",
       "    </tr>\n",
       "    <tr>\n",
       "      <th>1</th>\n",
       "      <td>0</td>\n",
       "      <td>a</td>\n",
       "      <td>a</td>\n",
       "      <td>Jan,Apr,Jul,Oct</td>\n",
       "      <td>Jul</td>\n",
       "    </tr>\n",
       "    <tr>\n",
       "      <th>2</th>\n",
       "      <td>0</td>\n",
       "      <td>a</td>\n",
       "      <td>a</td>\n",
       "      <td>Jan,Apr,Jul,Oct</td>\n",
       "      <td>Jul</td>\n",
       "    </tr>\n",
       "    <tr>\n",
       "      <th>3</th>\n",
       "      <td>0</td>\n",
       "      <td>c</td>\n",
       "      <td>c</td>\n",
       "      <td>0</td>\n",
       "      <td>Jul</td>\n",
       "    </tr>\n",
       "    <tr>\n",
       "      <th>4</th>\n",
       "      <td>0</td>\n",
       "      <td>a</td>\n",
       "      <td>a</td>\n",
       "      <td>0</td>\n",
       "      <td>Jul</td>\n",
       "    </tr>\n",
       "  </tbody>\n",
       "</table>\n",
       "</div>"
      ],
      "text/plain": [
       "  state_holiday store_type assortment   promo_interval month_map\n",
       "0             0          c          a                0       Jul\n",
       "1             0          a          a  Jan,Apr,Jul,Oct       Jul\n",
       "2             0          a          a  Jan,Apr,Jul,Oct       Jul\n",
       "3             0          c          c                0       Jul\n",
       "4             0          a          a                0       Jul"
      ]
     },
     "execution_count": 44,
     "metadata": {},
     "output_type": "execute_result"
    }
   ],
   "source": [
    "# contar quantas linhas tenho em cada uma das variávies categóricas\n",
    "cat_attributes.head()"
   ]
  },
  {
   "cell_type": "code",
   "execution_count": 45,
   "id": "75e58b22",
   "metadata": {
    "hidden": true
   },
   "outputs": [
    {
     "data": {
      "text/plain": [
       "0            regular_day\n",
       "63559     public_holiday\n",
       "129424    easter_holiday\n",
       "241126         christmas\n",
       "Name: state_holiday, dtype: object"
      ]
     },
     "execution_count": 45,
     "metadata": {},
     "output_type": "execute_result"
    }
   ],
   "source": [
    "# para ficar apenas com os tipos de variáveis originais\n",
    "df4[\"state_holiday\"].drop_duplicates()"
   ]
  },
  {
   "cell_type": "code",
   "execution_count": 46,
   "id": "9fd55c48",
   "metadata": {
    "hidden": true
   },
   "outputs": [
    {
     "data": {
      "text/plain": [
       "0     c\n",
       "1     a\n",
       "12    d\n",
       "84    b\n",
       "Name: store_type, dtype: object"
      ]
     },
     "execution_count": 46,
     "metadata": {},
     "output_type": "execute_result"
    }
   ],
   "source": [
    "# para ficar apenas com os tipos de variáveis originais\n",
    "df4[\"store_type\"].drop_duplicates()"
   ]
  },
  {
   "cell_type": "code",
   "execution_count": 47,
   "id": "a6ef0a67",
   "metadata": {
    "hidden": true
   },
   "outputs": [
    {
     "data": {
      "text/plain": [
       "0         basic\n",
       "3      extended\n",
       "258       extra\n",
       "Name: assortment, dtype: object"
      ]
     },
     "execution_count": 47,
     "metadata": {},
     "output_type": "execute_result"
    }
   ],
   "source": [
    "# para ficar apenas com os tipos de variáveis originais\n",
    "df4[\"assortment\"].drop_duplicates()"
   ]
  },
  {
   "cell_type": "code",
   "execution_count": 48,
   "id": "fd7ea337",
   "metadata": {
    "hidden": true,
    "scrolled": false
   },
   "outputs": [
    {
     "name": "stderr",
     "output_type": "stream",
     "text": [
      "/Users/raquelrocha/opt/anaconda3/lib/python3.8/site-packages/seaborn/_decorators.py:36: FutureWarning: Pass the following variable as a keyword arg: x. From version 0.12, the only valid positional argument will be `data`, and passing other arguments without an explicit keyword will result in an error or misinterpretation.\n",
      "  warnings.warn(\n",
      "/Users/raquelrocha/opt/anaconda3/lib/python3.8/site-packages/seaborn/_decorators.py:36: FutureWarning: Pass the following variable as a keyword arg: x. From version 0.12, the only valid positional argument will be `data`, and passing other arguments without an explicit keyword will result in an error or misinterpretation.\n",
      "  warnings.warn(\n",
      "/Users/raquelrocha/opt/anaconda3/lib/python3.8/site-packages/seaborn/_decorators.py:36: FutureWarning: Pass the following variable as a keyword arg: x. From version 0.12, the only valid positional argument will be `data`, and passing other arguments without an explicit keyword will result in an error or misinterpretation.\n",
      "  warnings.warn(\n"
     ]
    },
    {
     "data": {
      "text/plain": [
       "<AxesSubplot:xlabel='sales', ylabel='Density'>"
      ]
     },
     "execution_count": 48,
     "metadata": {},
     "output_type": "execute_result"
    },
    {
     "data": {
      "image/png": "[encoded data removed]",
      "text/plain": [
       "<Figure size 432x288 with 6 Axes>"
      ]
     },
     "metadata": {
      "needs_background": "light"
     },
     "output_type": "display_data"
    }
   ],
   "source": [
    "# as duas que não usamos são variáveis auxiliares que usamos para derivar outras\n",
    "#aqui queremos saber o tipo de feriado que impacta mais\n",
    "\n",
    "\n",
    "# state_holiday\n",
    "\n",
    "# filtrar para ver melhor os dados, já que \"regular day\" possui muito mais infos que as demais variáveis de feriado (mais vendas)\n",
    "# \"sns.countplot(df4[\"state_holiday\"])\"\n",
    "# esse faz uma especie de grid, matriz, para que os gráficos fiquem lado a lado (qtd por linhas, qtd por coluna, posição)\n",
    "plt.subplot(3,2,1)\n",
    "\n",
    "a = df4[df4[\"state_holiday\"] != \"regular_day\"]\n",
    "sns.countplot(a[\"state_holiday\"])\n",
    "\n",
    "# ver somente \"public_holiday\" na variável sales, shade deixa o gráfico mais transparente para sobrepor dois gráficos e ver melhor as comparações\n",
    "plt.subplot(3,2,2)\n",
    "sns.kdeplot (df4[df4[\"state_holiday\"] == \"public_holiday\"][\"sales\"], label=\"public_holiday\", shade=True)\n",
    "sns.kdeplot (df4[df4[\"state_holiday\"] == \"easter_holiday\"][\"sales\"], label=\"easter_holiday\", shade=True)\n",
    "sns.kdeplot (df4[df4[\"state_holiday\"] == \"christmas\"][\"sales\"], label=\"christmas\", shade=True)\n",
    "\n",
    "\n",
    "# o que fez acima, replicar para as variáveis abaixo\n",
    "\n",
    "\n",
    "# store_type\n",
    "plt.subplot(3,2,3)\n",
    "sns.countplot(df4[\"store_type\"])\n",
    "\n",
    "# ver somente \"store_type\" na variável sales, shade deixa o gráfico mais transparente para sobrepor dois gráficos e ver melhor as comparações\n",
    "plt.subplot(3,2,4)\n",
    "sns.kdeplot (df4[df4[\"store_type\"] == \"a\"][\"sales\"], label=\"a\", shade=True)\n",
    "sns.kdeplot (df4[df4[\"store_type\"] == \"b\"][\"sales\"], label=\"b\", shade=True)\n",
    "sns.kdeplot (df4[df4[\"store_type\"] == \"c\"][\"sales\"], label=\"c\", shade=True)\n",
    "sns.kdeplot (df4[df4[\"store_type\"] == \"d\"][\"sales\"], label=\"d\", shade=True)\n",
    "\n",
    "\n",
    "# assortment\n",
    "\n",
    "plt.subplot(3,2,5)\n",
    "sns.countplot(df4[\"assortment\"])\n",
    "\n",
    "# ver somente \"assortment\" na variável sales, shade deixa o gráfico mais transparente para sobrepor dois gráficos e ver melhor as comparações\n",
    "plt.subplot(3,2,6)\n",
    "sns.kdeplot (df4[df4[\"assortment\"] == \"basic\"][\"sales\"], label=\"basic\", shade=True)\n",
    "sns.kdeplot (df4[df4[\"assortment\"] == \"extended\"][\"sales\"], label=\"extended\", shade=True)\n",
    "sns.kdeplot (df4[df4[\"assortment\"] == \"extra\"][\"sales\"], label=\"extra\", shade=True)\n"
   ]
  },
  {
   "cell_type": "markdown",
   "id": "049fa827",
   "metadata": {},
   "source": [
    "## 4.2 Análise bivariada\n",
    "### Análise exploratória de dados - Parte I, II e III"
   ]
  },
  {
   "cell_type": "markdown",
   "id": "3bdb567d",
   "metadata": {},
   "source": [
    "##### H1 Lojas com maior sortimentos deveriam vender mais.\n",
    "***falso*** lojas com maior sortimento(assortment) vendem menos"
   ]
  },
  {
   "cell_type": "code",
   "execution_count": 49,
   "id": "5255b4bb",
   "metadata": {},
   "outputs": [
    {
     "data": {
      "text/plain": [
       "<AxesSubplot:xlabel='year_week'>"
      ]
     },
     "execution_count": 49,
     "metadata": {},
     "output_type": "execute_result"
    },
    {
     "data": {
      "image/png": "[encoded data removed]",
      "text/plain": [
       "<Figure size 432x288 with 1 Axes>"
      ]
     },
     "metadata": {
      "needs_background": "light"
     },
     "output_type": "display_data"
    },
    {
     "data": {
      "image/png": "[encoded data removed]",
      "text/plain": [
       "<Figure size 432x288 with 1 Axes>"
      ]
     },
     "metadata": {
      "needs_background": "light"
     },
     "output_type": "display_data"
    },
    {
     "data": {
      "image/png": "[encoded data removed]",
      "text/plain": [
       "<Figure size 432x288 with 1 Axes>"
      ]
     },
     "metadata": {
      "needs_background": "light"
     },
     "output_type": "display_data"
    }
   ],
   "source": [
    "# agrupar o sales no assortment\n",
    "aux1 = df4[[\"assortment\",\"sales\"]].groupby(\"assortment\").sum().reset_index()\n",
    "sns.barplot(x=\"assortment\",y=\"sales\",data=aux1);\n",
    "\n",
    "# veremos por dia para ver se houve mudança de comportamento do cliente\n",
    "aux2 = df4[[\"year_week\",\"assortment\",\"sales\"]].groupby([\"year_week\",\"assortment\"]).sum().reset_index()\n",
    "#aqui estamos fazendo um pivot para ver cada linhas de forma única em cima dos valores dos dados \n",
    "aux2.pivot(index=\"year_week\", columns=\"assortment\", values=\"sales\").plot()\n",
    "\n",
    "#filtrar para pegar a linha do extra \n",
    "aux3 = aux2[aux2[\"assortment\"]==\"extra\"]\n",
    "aux3.pivot(index=\"year_week\", columns=\"assortment\", values=\"sales\").plot()\n"
   ]
  },
  {
   "cell_type": "markdown",
   "id": "e8ebab55",
   "metadata": {},
   "source": [
    "##### H2 Lojas com competidores mais próximos deveriam vender menos.\n",
    "***falso*** lojas com competidores mais próximos vendem mais"
   ]
  },
  {
   "cell_type": "code",
   "execution_count": 50,
   "id": "cebcd774",
   "metadata": {},
   "outputs": [
    {
     "data": {
      "image/png": "[encoded data removed]",
      "text/plain": [
       "<Figure size 432x288 with 1 Axes>"
      ]
     },
     "metadata": {
      "needs_background": "light"
     },
     "output_type": "display_data"
    }
   ],
   "source": [
    "aux1 = df4[[\"competition_distance\", \"sales\"]].groupby(\"competition_distance\").sum().reset_index()\n",
    "sns.barplot(x=\"competition_distance\",y=\"sales\",data=aux1);\n"
   ]
  },
  {
   "cell_type": "code",
   "execution_count": 51,
   "id": "a543808b",
   "metadata": {},
   "outputs": [],
   "source": [
    "# faremos bin nesse caso para ficar mais fácil de ver os dados\n",
    "# lista de 0 a 20000, em grupos de 1000 em 1000aux1 = df4[[\"competition_distance\", \"sales\"]].groupby(\"competition_distance\").sum().reset_index()\n",
    "\n",
    "bins = list(np.arange(0,20000,1000))\n",
    "# para saber em qual grupo os valores se encaixam, usando o método cut do pandas\n",
    "aux1[\"competition_distance_binned\"] = pd.cut(aux1[\"competition_distance\"],bins=bins)\n"
   ]
  },
  {
   "cell_type": "code",
   "execution_count": 52,
   "id": "8cbacb22",
   "metadata": {},
   "outputs": [
    {
     "data": {
      "text/html": [
       "<div>\n",
       "<style scoped>\n",
       "    .dataframe tbody tr th:only-of-type {\n",
       "        vertical-align: middle;\n",
       "    }\n",
       "\n",
       "    .dataframe tbody tr th {\n",
       "        vertical-align: top;\n",
       "    }\n",
       "\n",
       "    .dataframe thead th {\n",
       "        text-align: right;\n",
       "    }\n",
       "</style>\n",
       "<table border=\"1\" class=\"dataframe\">\n",
       "  <thead>\n",
       "    <tr style=\"text-align: right;\">\n",
       "      <th></th>\n",
       "      <th>competition_distance</th>\n",
       "      <th>sales</th>\n",
       "      <th>competition_distance_binned</th>\n",
       "    </tr>\n",
       "  </thead>\n",
       "  <tbody>\n",
       "    <tr>\n",
       "      <th>566</th>\n",
       "      <td>17080.0</td>\n",
       "      <td>2807854</td>\n",
       "      <td>(17000, 18000]</td>\n",
       "    </tr>\n",
       "    <tr>\n",
       "      <th>332</th>\n",
       "      <td>4630.0</td>\n",
       "      <td>4885211</td>\n",
       "      <td>(4000, 5000]</td>\n",
       "    </tr>\n",
       "    <tr>\n",
       "      <th>412</th>\n",
       "      <td>6970.0</td>\n",
       "      <td>10000457</td>\n",
       "      <td>(6000, 7000]</td>\n",
       "    </tr>\n",
       "    <tr>\n",
       "      <th>368</th>\n",
       "      <td>5470.0</td>\n",
       "      <td>4005216</td>\n",
       "      <td>(5000, 6000]</td>\n",
       "    </tr>\n",
       "  </tbody>\n",
       "</table>\n",
       "</div>"
      ],
      "text/plain": [
       "     competition_distance     sales competition_distance_binned\n",
       "566               17080.0   2807854              (17000, 18000]\n",
       "332                4630.0   4885211                (4000, 5000]\n",
       "412                6970.0  10000457                (6000, 7000]\n",
       "368                5470.0   4005216                (5000, 6000]"
      ]
     },
     "execution_count": 52,
     "metadata": {},
     "output_type": "execute_result"
    }
   ],
   "source": [
    "aux1.sample(4)"
   ]
  },
  {
   "cell_type": "code",
   "execution_count": 53,
   "id": "579f3981",
   "metadata": {},
   "outputs": [
    {
     "data": {
      "image/png": "[encoded data removed]",
      "text/plain": [
       "<Figure size 432x288 with 1 Axes>"
      ]
     },
     "metadata": {
      "needs_background": "light"
     },
     "output_type": "display_data"
    }
   ],
   "source": [
    "#resultado da Bin que foi feita\n",
    "aux1 = df4[[\"competition_distance\", \"sales\"]].groupby(\"competition_distance\").sum().reset_index()\n",
    "\n",
    "bins = list(np.arange(0,20000,1000))\n",
    "\n",
    "aux1[\"competition_distance_binned\"] = pd.cut(aux1[\"competition_distance\"], bins=bins)\n",
    "aux2 = aux1[[\"competition_distance_binned\", \"sales\"]].groupby(\"competition_distance_binned\").sum().reset_index()\n",
    "\n",
    "sns.barplot(x=\"competition_distance_binned\", y=\"sales\", data=aux2);\n"
   ]
  },
  {
   "cell_type": "code",
   "execution_count": 54,
   "id": "a735097a",
   "metadata": {},
   "outputs": [
    {
     "data": {
      "image/png": "[encoded data removed]",
      "text/plain": [
       "<Figure size 432x288 with 1 Axes>"
      ]
     },
     "metadata": {
      "needs_background": "light"
     },
     "output_type": "display_data"
    }
   ],
   "source": [
    "# validar se a variável é importante para o modelo\n",
    "# gráfico de pontos, para ver a distribuição (concentração) dos valores\n",
    "aux1 = df4[[\"competition_distance\", \"sales\"]].groupby(\"competition_distance\").sum().reset_index()\n",
    "sns.scatterplot(x=\"competition_distance\",y=\"sales\",data=aux1);\n"
   ]
  },
  {
   "cell_type": "code",
   "execution_count": 55,
   "id": "6e27d2a5",
   "metadata": {},
   "outputs": [
    {
     "data": {
      "image/png": "[encoded data removed]",
      "text/plain": [
       "<Figure size 432x288 with 4 Axes>"
      ]
     },
     "metadata": {
      "needs_background": "light"
     },
     "output_type": "display_data"
    }
   ],
   "source": [
    "# gráfico para ver a correlação entre \"competition_distance e sales\"\n",
    "aux1 = df4[[\"competition_distance\", \"sales\"]].groupby(\"competition_distance\").sum().reset_index()\n",
    "\n",
    "plt.subplot (1,3,1)\n",
    "sns.scatterplot(x=\"competition_distance\",y=\"sales\",data=aux1);\n",
    "\n",
    "plt.subplot (1,3,2)\n",
    "bins = list(np.arange(0,20000,1000))\n",
    "aux1[\"competition_distance_binned\"] = pd.cut(aux1[\"competition_distance\"], bins=bins)\n",
    "aux2 = aux1[[\"competition_distance_binned\", \"sales\"]].groupby(\"competition_distance_binned\").sum().reset_index()\n",
    "sns.barplot(x=\"competition_distance_binned\", y=\"sales\", data=aux2);\n",
    "plt.xticks (rotation = 90);\n",
    "\n",
    "# plot que mede a força da correlação\n",
    "plt.subplot (1,3,3)\n",
    "x=sns.heatmap (aux1.corr(method=\"pearson\"),annot=True);\n",
    "#rodar os numeros 90 graus para ler melhor (não deixar amontoados)\n",
    "plt.xticks (rotation = 90);"
   ]
  },
  {
   "cell_type": "markdown",
   "id": "081ca89e",
   "metadata": {},
   "source": [
    "##### H3 Lojas com competidores à mais tempo deveriam vendem mais.\n",
    "***falso*** lojas com competidores a mais tempo vendem menos"
   ]
  },
  {
   "cell_type": "code",
   "execution_count": 56,
   "id": "3a3346d8",
   "metadata": {
    "scrolled": true
   },
   "outputs": [
    {
     "data": {
      "image/png": "[encoded data removed]",
      "text/plain": [
       "<Figure size 432x288 with 1 Axes>"
      ]
     },
     "metadata": {
      "needs_background": "light"
     },
     "output_type": "display_data"
    }
   ],
   "source": [
    "aux1 = df4[[\"competition_open_since_month\",\"sales\"]].groupby(\"competition_open_since_month\").sum().reset_index()\n",
    "sns.barplot(x=\"competition_open_since_month\", y=\"sales\", data=aux1);\n"
   ]
  },
  {
   "cell_type": "code",
   "execution_count": 57,
   "id": "4ed46ce4",
   "metadata": {},
   "outputs": [
    {
     "data": {
      "image/png": "[encoded data removed]",
      "text/plain": [
       "<Figure size 432x288 with 1 Axes>"
      ]
     },
     "metadata": {
      "needs_background": "light"
     },
     "output_type": "display_data"
    }
   ],
   "source": [
    "# gráfico ruim de ver\n",
    "aux1 = df4[[\"competition_time_month\",\"sales\"]].groupby(\"competition_time_month\").sum().reset_index()\n",
    "sns.barplot(x=\"competition_time_month\", y=\"sales\", data=aux1);\n"
   ]
  },
  {
   "cell_type": "code",
   "execution_count": 58,
   "id": "442f8142",
   "metadata": {},
   "outputs": [
    {
     "data": {
      "image/png": "[encoded data removed]",
      "text/plain": [
       "<Figure size 432x288 with 1 Axes>"
      ]
     },
     "metadata": {
      "needs_background": "light"
     },
     "output_type": "display_data"
    }
   ],
   "source": [
    "# gráfico com melhor visualização\n",
    "aux1 = df4[[\"competition_time_month\",\"sales\"]].groupby(\"competition_time_month\").sum().reset_index()\n",
    "#ver os 120 primeiros meses de competicão e filtrar os competidores que tem diferente de 0\n",
    "aux2 = aux1[(aux1[\"competition_time_month\"] <120) & (aux1[\"competition_time_month\"] != 0)]\n",
    "sns.barplot(x=\"competition_time_month\", y=\"sales\", data=aux2);\n",
    "plt.xticks(rotation=90);\n"
   ]
  },
  {
   "cell_type": "code",
   "execution_count": 59,
   "id": "1f32a145",
   "metadata": {},
   "outputs": [
    {
     "data": {
      "image/png": "[encoded data removed]",
      "text/plain": [
       "<Figure size 432x288 with 4 Axes>"
      ]
     },
     "metadata": {
      "needs_background": "light"
     },
     "output_type": "display_data"
    }
   ],
   "source": [
    "# plot que mede a força da correlação\n",
    "plt.subplot (1,3,1)\n",
    "aux1 = df4[[\"competition_time_month\",\"sales\"]].groupby(\"competition_time_month\").sum().reset_index()\n",
    "aux2 = aux1[(aux1[\"competition_time_month\"] <120) & (aux1[\"competition_time_month\"] != 0)]\n",
    "sns.barplot(x=\"competition_time_month\", y=\"sales\", data=aux2);\n",
    "plt.xticks(rotation=90);\n",
    "\n",
    "#comportamento de crescimento e decaimento\n",
    "plt.subplot (1,3,2)\n",
    "sns.regplot(x=\"competition_time_month\", y=\"sales\", data=aux2);\n",
    "\n",
    "# plot de correlação\n",
    "plt.subplot (1,3,3)\n",
    "x=sns.heatmap (aux1.corr(method=\"pearson\"),annot=True);\n"
   ]
  },
  {
   "cell_type": "markdown",
   "id": "14db7ea3",
   "metadata": {},
   "source": [
    "##### H4 Lojas com promoções ativas por mais tempo deveriam vender mais.\n",
    "***falso*** lojas com promoções ativas por mais tempo vendem menos, depois de um certo periodo de promoção"
   ]
  },
  {
   "cell_type": "code",
   "execution_count": 60,
   "id": "bf455e16",
   "metadata": {
    "scrolled": true
   },
   "outputs": [
    {
     "data": {
      "text/html": [
       "<div>\n",
       "<style scoped>\n",
       "    .dataframe tbody tr th:only-of-type {\n",
       "        vertical-align: middle;\n",
       "    }\n",
       "\n",
       "    .dataframe tbody tr th {\n",
       "        vertical-align: top;\n",
       "    }\n",
       "\n",
       "    .dataframe thead th {\n",
       "        text-align: right;\n",
       "    }\n",
       "</style>\n",
       "<table border=\"1\" class=\"dataframe\">\n",
       "  <thead>\n",
       "    <tr style=\"text-align: right;\">\n",
       "      <th></th>\n",
       "      <th>store</th>\n",
       "      <th>day_of_week</th>\n",
       "      <th>date</th>\n",
       "      <th>sales</th>\n",
       "      <th>promo</th>\n",
       "      <th>state_holiday</th>\n",
       "      <th>school_holiday</th>\n",
       "      <th>store_type</th>\n",
       "      <th>assortment</th>\n",
       "      <th>competition_distance</th>\n",
       "      <th>...</th>\n",
       "      <th>is_promo</th>\n",
       "      <th>year</th>\n",
       "      <th>month</th>\n",
       "      <th>day</th>\n",
       "      <th>week_of_year</th>\n",
       "      <th>year_week</th>\n",
       "      <th>competition_since</th>\n",
       "      <th>competition_time_month</th>\n",
       "      <th>promo_since</th>\n",
       "      <th>promo_time_week</th>\n",
       "    </tr>\n",
       "  </thead>\n",
       "  <tbody>\n",
       "    <tr>\n",
       "      <th>0</th>\n",
       "      <td>1</td>\n",
       "      <td>5</td>\n",
       "      <td>2015-07-31</td>\n",
       "      <td>5263</td>\n",
       "      <td>1</td>\n",
       "      <td>regular_day</td>\n",
       "      <td>1</td>\n",
       "      <td>c</td>\n",
       "      <td>basic</td>\n",
       "      <td>1270.0</td>\n",
       "      <td>...</td>\n",
       "      <td>0</td>\n",
       "      <td>2015</td>\n",
       "      <td>7</td>\n",
       "      <td>31</td>\n",
       "      <td>31</td>\n",
       "      <td>2015-30</td>\n",
       "      <td>2008-09-01</td>\n",
       "      <td>84</td>\n",
       "      <td>2015-07-27</td>\n",
       "      <td>0</td>\n",
       "    </tr>\n",
       "    <tr>\n",
       "      <th>1</th>\n",
       "      <td>2</td>\n",
       "      <td>5</td>\n",
       "      <td>2015-07-31</td>\n",
       "      <td>6064</td>\n",
       "      <td>1</td>\n",
       "      <td>regular_day</td>\n",
       "      <td>1</td>\n",
       "      <td>a</td>\n",
       "      <td>basic</td>\n",
       "      <td>570.0</td>\n",
       "      <td>...</td>\n",
       "      <td>1</td>\n",
       "      <td>2015</td>\n",
       "      <td>7</td>\n",
       "      <td>31</td>\n",
       "      <td>31</td>\n",
       "      <td>2015-30</td>\n",
       "      <td>2007-11-01</td>\n",
       "      <td>94</td>\n",
       "      <td>2010-03-22</td>\n",
       "      <td>279</td>\n",
       "    </tr>\n",
       "    <tr>\n",
       "      <th>2</th>\n",
       "      <td>3</td>\n",
       "      <td>5</td>\n",
       "      <td>2015-07-31</td>\n",
       "      <td>8314</td>\n",
       "      <td>1</td>\n",
       "      <td>regular_day</td>\n",
       "      <td>1</td>\n",
       "      <td>a</td>\n",
       "      <td>basic</td>\n",
       "      <td>14130.0</td>\n",
       "      <td>...</td>\n",
       "      <td>1</td>\n",
       "      <td>2015</td>\n",
       "      <td>7</td>\n",
       "      <td>31</td>\n",
       "      <td>31</td>\n",
       "      <td>2015-30</td>\n",
       "      <td>2006-12-01</td>\n",
       "      <td>105</td>\n",
       "      <td>2011-03-28</td>\n",
       "      <td>226</td>\n",
       "    </tr>\n",
       "    <tr>\n",
       "      <th>3</th>\n",
       "      <td>4</td>\n",
       "      <td>5</td>\n",
       "      <td>2015-07-31</td>\n",
       "      <td>13995</td>\n",
       "      <td>1</td>\n",
       "      <td>regular_day</td>\n",
       "      <td>1</td>\n",
       "      <td>c</td>\n",
       "      <td>extended</td>\n",
       "      <td>620.0</td>\n",
       "      <td>...</td>\n",
       "      <td>0</td>\n",
       "      <td>2015</td>\n",
       "      <td>7</td>\n",
       "      <td>31</td>\n",
       "      <td>31</td>\n",
       "      <td>2015-30</td>\n",
       "      <td>2009-09-01</td>\n",
       "      <td>71</td>\n",
       "      <td>2015-07-27</td>\n",
       "      <td>0</td>\n",
       "    </tr>\n",
       "    <tr>\n",
       "      <th>4</th>\n",
       "      <td>5</td>\n",
       "      <td>5</td>\n",
       "      <td>2015-07-31</td>\n",
       "      <td>4822</td>\n",
       "      <td>1</td>\n",
       "      <td>regular_day</td>\n",
       "      <td>1</td>\n",
       "      <td>a</td>\n",
       "      <td>basic</td>\n",
       "      <td>29910.0</td>\n",
       "      <td>...</td>\n",
       "      <td>0</td>\n",
       "      <td>2015</td>\n",
       "      <td>7</td>\n",
       "      <td>31</td>\n",
       "      <td>31</td>\n",
       "      <td>2015-30</td>\n",
       "      <td>2015-04-01</td>\n",
       "      <td>4</td>\n",
       "      <td>2015-07-27</td>\n",
       "      <td>0</td>\n",
       "    </tr>\n",
       "  </tbody>\n",
       "</table>\n",
       "<p>5 rows × 25 columns</p>\n",
       "</div>"
      ],
      "text/plain": [
       "   store  day_of_week       date  sales  promo state_holiday  school_holiday  \\\n",
       "0      1            5 2015-07-31   5263      1   regular_day               1   \n",
       "1      2            5 2015-07-31   6064      1   regular_day               1   \n",
       "2      3            5 2015-07-31   8314      1   regular_day               1   \n",
       "3      4            5 2015-07-31  13995      1   regular_day               1   \n",
       "4      5            5 2015-07-31   4822      1   regular_day               1   \n",
       "\n",
       "  store_type assortment  competition_distance  ...  is_promo  year  month  \\\n",
       "0          c      basic                1270.0  ...         0  2015      7   \n",
       "1          a      basic                 570.0  ...         1  2015      7   \n",
       "2          a      basic               14130.0  ...         1  2015      7   \n",
       "3          c   extended                 620.0  ...         0  2015      7   \n",
       "4          a      basic               29910.0  ...         0  2015      7   \n",
       "\n",
       "   day  week_of_year  year_week  competition_since  competition_time_month  \\\n",
       "0   31            31    2015-30         2008-09-01                      84   \n",
       "1   31            31    2015-30         2007-11-01                      94   \n",
       "2   31            31    2015-30         2006-12-01                     105   \n",
       "3   31            31    2015-30         2009-09-01                      71   \n",
       "4   31            31    2015-30         2015-04-01                       4   \n",
       "\n",
       "   promo_since  promo_time_week  \n",
       "0   2015-07-27                0  \n",
       "1   2010-03-22              279  \n",
       "2   2011-03-28              226  \n",
       "3   2015-07-27                0  \n",
       "4   2015-07-27                0  \n",
       "\n",
       "[5 rows x 25 columns]"
      ]
     },
     "execution_count": 60,
     "metadata": {},
     "output_type": "execute_result"
    }
   ],
   "source": [
    "df4.head()"
   ]
  },
  {
   "cell_type": "code",
   "execution_count": 61,
   "id": "5d6eb73a",
   "metadata": {},
   "outputs": [
    {
     "data": {
      "image/png": "[encoded data removed]",
      "text/plain": [
       "<Figure size 432x288 with 1 Axes>"
      ]
     },
     "metadata": {
      "needs_background": "light"
     },
     "output_type": "display_data"
    }
   ],
   "source": [
    "# gráfico ruim de analisar.\n",
    "aux1 = df4[[\"promo_time_week\", \"sales\"]].groupby(\"promo_time_week\").sum().reset_index()\n",
    "sns.barplot (x=\"promo_time_week\", y=\"sales\", data=aux1);\n",
    "\n"
   ]
  },
  {
   "cell_type": "code",
   "execution_count": null,
   "id": "7668a336",
   "metadata": {},
   "outputs": [],
   "source": [
    "# aqui iremos particionar as informações para ver melhor o gráfico\n",
    "# P.S. Para jogar os dados no Modelo (ML) não particiona as informações, tem que colocar os dados inteiros para testar e treinar o modelo\n",
    "aux1 = df4[[\"promo_time_week\", \"sales\"]].groupby(\"promo_time_week\").sum().reset_index()\n",
    "\n",
    "plt.subplot(2,2,1)\n",
    "aux2 = aux1[aux1[\"promo_time_week\"]>0] #promo extendido\n",
    "sns.barplot (x=\"promo_time_week\", y=\"sales\", data=aux2);\n",
    "plt.xticks(rotation=90);\n",
    "\n",
    "# ver gráfico que mostra a tendencia decrescente\n",
    "plt.subplot(2,2,2)\n",
    "sns.regplot (x=\"promo_time_week\", y=\"sales\", data=aux2);\n",
    "\n",
    "plt.subplot(2,2,3)\n",
    "aux3 = aux1[aux1[\"promo_time_week\"]<0] #promo regular\n",
    "sns.barplot (x=\"promo_time_week\", y=\"sales\", data=aux3);\n",
    "plt.xticks(rotation=90);\n",
    "\n",
    "# ver gráfico que mostra a tendencia crescente\n",
    "plt.subplot(2,2,4)\n",
    "sns.regplot (x=\"promo_time_week\", y=\"sales\", data=aux3);\n",
    "\n"
   ]
  },
  {
   "cell_type": "code",
   "execution_count": null,
   "id": "d46cb214",
   "metadata": {
    "scrolled": true
   },
   "outputs": [],
   "source": [
    "#como teremos 5 graficos devemos usar o GridSpec\n",
    "\n",
    "# P.S. Para jogar os dados no Modelo (ML) não particiona as informações, tem que colocar os dados inteiros para testar e treinar o modelo\n",
    "# aqui iremos particionar as informações para ver melhor o gráfico\n",
    "aux1 = df4[[\"promo_time_week\", \"sales\"]].groupby(\"promo_time_week\").sum().reset_index()\n",
    "\n",
    "# esse código forma as posições dos gráficos de forma diferente do subplot(em quadrados/matriz)\n",
    "grid = gridspec.GridSpec(2,3)\n",
    "\n",
    "plt.subplot(grid[0,0])\n",
    "aux2 = aux1[aux1[\"promo_time_week\"]>0] #promo extendido\n",
    "sns.barplot (x=\"promo_time_week\", y=\"sales\", data=aux2);\n",
    "plt.xticks(rotation=90);\n",
    "\n",
    "# ver gráfico que mostra a tendencia decrescente\n",
    "plt.subplot(grid[0,1])\n",
    "sns.regplot (x=\"promo_time_week\", y=\"sales\", data=aux2);\n",
    "\n",
    "plt.subplot(grid[1,0])\n",
    "aux3 = aux1[aux1[\"promo_time_week\"]<0] #promo regular\n",
    "sns.barplot (x=\"promo_time_week\", y=\"sales\", data=aux3);\n",
    "plt.xticks(rotation=90);\n",
    "\n",
    "# ver gráfico que mostra a tendencia crescente\n",
    "plt.subplot(grid[1,1])\n",
    "sns.regplot (x=\"promo_time_week\", y=\"sales\", data=aux3);\n",
    "\n",
    "# ver a força da correlação\n",
    "# aqui quero que ocupe as duas últimas linhas, por isso colocou de 2 para frente (:,2)\n",
    "\n",
    "plt.subplot(grid[:,2])\n",
    "sns.heatmap (aux1.corr(method=\"pearson\"), annot=True); #annot=True mostra os valores no gráfico de correlação\n"
   ]
  },
  {
   "cell_type": "markdown",
   "id": "4a7f7783",
   "metadata": {},
   "source": [
    "##### <s> H5. Lojas com mais dias de promoção deveriam vender mais. </s> será validada na segunda etapa do CRISP"
   ]
  },
  {
   "cell_type": "markdown",
   "id": "570c17df",
   "metadata": {},
   "source": [
    "##### H6 Lojas com mais promoções consecutivas deveriam vender mais.\n",
    "***falso*** lojas com mais promoções consecutivas vendem menos"
   ]
  },
  {
   "cell_type": "code",
   "execution_count": null,
   "id": "fd6be880",
   "metadata": {},
   "outputs": [],
   "source": [
    "df4[[\"promo\", \"promo2\", \"sales\"]].groupby([\"promo\", \"promo2\"]).sum().reset_index()"
   ]
  },
  {
   "cell_type": "code",
   "execution_count": null,
   "id": "90c6ddac",
   "metadata": {},
   "outputs": [],
   "source": [
    "# vendas das lojas q tiveram nos dois periodos de promoção\n",
    "# ver se lojas que entraram na promo tradicional teve mudança no comportamento ao entrar na promo extendida\n",
    "aux1 = df4[(df4[\"promo\"]==1) & (df4[\"promo2\"]== 1)][[\"year_week\", \"sales\"]].groupby(\"year_week\").sum().reset_index()\n",
    "aux1.plot()\n"
   ]
  },
  {
   "cell_type": "code",
   "execution_count": null,
   "id": "57c89d22",
   "metadata": {},
   "outputs": [],
   "source": [
    "# vendas das lojas q tiveram nos dois periodos de promoção\n",
    "# ver se lojas que entraram na promo tradicional (1) teve mudança no comportamento ao entrar na promo extendida(0)\n",
    "aux1 = df4[(df4[\"promo\"]==1) & (df4[\"promo2\"]== 1)][[\"year_week\", \"sales\"]].groupby(\"year_week\").sum().reset_index()\n",
    "ax = aux1.plot()\n",
    "\n",
    "# aqui vamos analisar apenas as lojas que tiveram periodo da promo extendido\n",
    "aux2 = df4[(df4[\"promo\"]==1) & (df4[\"promo2\"]== 0)][[\"year_week\", \"sales\"]].groupby(\"year_week\").sum().reset_index()\n",
    "aux2.plot(ax=ax)#esse ax faz com que plot o grafico no mesmo grid\n",
    "\n",
    "# faz a legenda do gráfico\n",
    "ax.legend(labels=[\"Tradicional 7 Extendida\", \"Extendida\"]);\n"
   ]
  },
  {
   "cell_type": "markdown",
   "id": "09ae0a6d",
   "metadata": {},
   "source": [
    "##### H77. Lojas abertas durante o feriado de Natal deveriam vender mais.\n",
    "***falso*** lojas abertas durante o feriado de Natal vendem menos"
   ]
  },
  {
   "cell_type": "code",
   "execution_count": null,
   "id": "e745feca",
   "metadata": {},
   "outputs": [],
   "source": [
    "# gráfico ruim de analsar\n",
    "aux1 = df4[[\"state_holiday\", \"sales\"]].groupby(\"state_holiday\").sum().reset_index()\n",
    "sns.barplot(x=\"state_holiday\", y=\"sales\", data=aux1);\n"
   ]
  },
  {
   "cell_type": "code",
   "execution_count": null,
   "id": "142f6c5d",
   "metadata": {},
   "outputs": [],
   "source": [
    "# aqui retiraremos os \"regular_day\" para trabalhar só com os feriados\n",
    "aux = df4[df4[\"state_holiday\"]!= \"regular_day\"]\n",
    "aux1 = aux[[\"state_holiday\", \"sales\"]].groupby(\"state_holiday\").sum().reset_index()\n",
    "sns.barplot(x=\"state_holiday\", y=\"sales\", data=aux1);\n"
   ]
  },
  {
   "cell_type": "code",
   "execution_count": null,
   "id": "61080cef",
   "metadata": {},
   "outputs": [],
   "source": [
    "#calcular quantidade de vendas ao ano (para saber se o natal já vendeu mais em algum periodo)\n",
    "# aqui retiraremos os \"regular_day\" para trabalhar só com os feriados\n",
    "aux = df4[df4[\"state_holiday\"]!= \"regular_day\"]\n",
    "\n",
    "plt.subplot(1,2,1)\n",
    "aux1 = aux[[\"state_holiday\", \"sales\"]].groupby(\"state_holiday\").sum().reset_index()\n",
    "sns.barplot(x=\"state_holiday\", y=\"sales\", data=aux1);\n",
    "\n",
    "plt.subplot(1,2,2)\n",
    "aux2 = aux[[\"year\", \"state_holiday\", \"sales\"]].groupby([\"year\", \"state_holiday\"]).sum().reset_index()\n",
    "sns.barplot(x=\"year\", y=\"sales\", hue=\"state_holiday\", data=aux2);\n"
   ]
  },
  {
   "cell_type": "markdown",
   "id": "3a488b2a",
   "metadata": {},
   "source": [
    "##### H8. Lojas deveriam vender mais ao longo dos anos.\n",
    "***falso*** lojas vendem menos ao longo do ano"
   ]
  },
  {
   "cell_type": "code",
   "execution_count": null,
   "id": "504f0d4f",
   "metadata": {},
   "outputs": [],
   "source": [
    "aux1 = df4[[\"year\", \"sales\"]].groupby(\"year\").sum().reset_index()\n",
    "\n",
    "plt.subplot(1,3,1)\n",
    "sns.barplot(x=\"year\", y=\"sales\", data=aux1);\n",
    "\n",
    "#tendência\n",
    "plt.subplot(1,3,2)\n",
    "sns.regplot(x=\"year\", y=\"sales\", data=aux1);\n",
    "\n",
    "#correlação (pegamos valores fechados, por isso nesse caso deu correlação alta, pois não tem 2015 fechado)\n",
    "plt.subplot(1,3,3)\n",
    "sns.heatmap(aux1.corr(method = \"pearson\"), annot=True); #annot=True para ver os valores\n"
   ]
  },
  {
   "cell_type": "markdown",
   "id": "ef5bfb10",
   "metadata": {},
   "source": [
    "##### H9 Lojas deveriam vender mais no segundo semestre do ano.\n",
    "***falso*** lojas vendem menos no segundo semestre do ano"
   ]
  },
  {
   "cell_type": "markdown",
   "id": "2a71e5a3",
   "metadata": {},
   "source": [
    "##### H10 Lojas deveriam vender mais depois do dia 10 de cada mês.\n",
    "***verdadeira*** lojas vendem mais depois do dia 10"
   ]
  },
  {
   "cell_type": "code",
   "execution_count": null,
   "id": "dada5d9b",
   "metadata": {},
   "outputs": [],
   "source": [
    "# só para olhar\n",
    "aux1[\"before_after\"] = aux1[\"day\"].apply(lambda x:\"before_10_days\" if x <= 10 else \"after_10_days\")\n",
    "aux1.head(15)"
   ]
  },
  {
   "cell_type": "code",
   "execution_count": null,
   "id": "4c33842f",
   "metadata": {},
   "outputs": [],
   "source": [
    "aux1 = df4[[\"day\", \"sales\"]].groupby(\"day\").sum().reset_index()\n",
    "\n",
    "plt.subplot(2,2,1)\n",
    "sns.barplot(x=\"day\", y=\"sales\", data=aux1);\n",
    "\n",
    "#tendência\n",
    "plt.subplot(2,2,2)\n",
    "sns.regplot(x=\"day\", y=\"sales\", data=aux1);\n",
    "\n",
    "#correlação (pegamos valores fechados, por isso nesse caso deu correlação alta, pois não tem 2015 fechado)\n",
    "plt.subplot(2,2,3)\n",
    "sns.heatmap(aux1.corr(method = \"pearson\"), annot=True); #annot=True para ver os valores\n",
    "\n",
    "aux1[\"before_after\"] = aux1[\"day\"].apply(lambda x:\"before_10_days\" if x <= 10 else \"after_10_days\")\n",
    "aux2 = aux1[[\"before_after\", \"sales\"]].groupby(\"before_after\").sum().reset_index()\n",
    "\n",
    "plt.subplot(2,2,4)\n",
    "sns.barplot(x=\"before_after\", y=\"sales\", data=aux2);\n"
   ]
  },
  {
   "cell_type": "code",
   "execution_count": null,
   "id": "0de657a0",
   "metadata": {},
   "outputs": [],
   "source": [
    "aux1 = df4[[\"month\", \"sales\"]].groupby(\"month\").sum().reset_index()\n",
    "\n",
    "plt.subplot(1,3,1)\n",
    "sns.barplot(x=\"month\", y=\"sales\", data=aux1);\n",
    "\n",
    "#tendência\n",
    "plt.subplot(1,3,2)\n",
    "sns.regplot(x=\"month\", y=\"sales\", data=aux1);\n",
    "\n",
    "#correlação (pegamos valores fechados, por isso nesse caso deu correlação alta, pois não tem 2015 fechado)\n",
    "plt.subplot(1,3,3)\n",
    "sns.heatmap(aux1.corr(method = \"pearson\"), annot=True); #annot=True para ver os valores\n"
   ]
  },
  {
   "cell_type": "markdown",
   "id": "f49ac70a",
   "metadata": {},
   "source": [
    "##### H11 Lojas deveriam vender menos aos finais de semana.\n",
    "***verdadeira*** lojas vendem menos aos finais de semana"
   ]
  },
  {
   "cell_type": "code",
   "execution_count": null,
   "id": "82963b3c",
   "metadata": {},
   "outputs": [],
   "source": [
    "# para relembrar os nomes das colunas\n",
    "df4.head()"
   ]
  },
  {
   "cell_type": "code",
   "execution_count": null,
   "id": "95509376",
   "metadata": {},
   "outputs": [],
   "source": [
    "aux1 = df4[[\"day_of_week\", \"sales\"]].groupby(\"day_of_week\").sum().reset_index()\n",
    "\n",
    "plt.subplot(1,3,1)\n",
    "sns.barplot(x=\"day_of_week\", y=\"sales\", data=aux1);\n",
    "\n",
    "#tendência\n",
    "plt.subplot(1,3,2)\n",
    "sns.regplot(x=\"day_of_week\", y=\"sales\", data=aux1);\n",
    "\n",
    "#correlação (pegamos valores fechados, por isso nesse caso deu correlação alta, pois não tem 2015 fechado)\n",
    "plt.subplot(1,3,3)\n",
    "sns.heatmap(aux1.corr(method = \"pearson\"), annot=True); #annot=True para ver os valores\n"
   ]
  },
  {
   "cell_type": "markdown",
   "id": "0995868f",
   "metadata": {},
   "source": [
    "##### H12 Lojas deveriam vender menos durante os feriados escolares.\n",
    "***verdadeira*** lojas vendem menos durante os feriados escolares, exceto os meses de Julho e Agosto (que vendem mais portano Falso)"
   ]
  },
  {
   "cell_type": "code",
   "execution_count": null,
   "id": "e986360d",
   "metadata": {},
   "outputs": [],
   "source": [
    "aux1 = df4[[\"school_holiday\", \"sales\"]].groupby(\"school_holiday\").sum().reset_index()\n",
    "\n",
    "plt.subplot(2,1,1)\n",
    "sns.barplot(x=\"school_holiday\", y=\"sales\", data=aux1);\n",
    "\n",
    "aux2 = df4[[\"month\", \"school_holiday\", \"sales\"]].groupby([\"month\", \"school_holiday\"]).sum().reset_index()\n",
    "plt.subplot(2,1,2)\n",
    "sns.barplot(x=\"month\", y=\"sales\", hue=\"school_holiday\", data=aux2);\n",
    "\n"
   ]
  },
  {
   "cell_type": "markdown",
   "id": "b59dc799",
   "metadata": {
    "heading_collapsed": true
   },
   "source": [
    "## 4.2.1 Resumo das Hipóteses"
   ]
  },
  {
   "cell_type": "code",
   "execution_count": null,
   "id": "6fa4eee8",
   "metadata": {
    "hidden": true
   },
   "outputs": [],
   "source": [
    "from tabulate import tabulate"
   ]
  },
  {
   "cell_type": "code",
   "execution_count": null,
   "id": "1d788e07",
   "metadata": {
    "hidden": true
   },
   "outputs": [],
   "source": [
    "tab =[['Hipoteses', 'Conclusao', 'Relevancia'],\n",
    "['H1', 'Falsa', 'Baixa'],\n",
    "['H2', 'Falsa', 'Media'],\n",
    "['H3', 'Falsa', 'Media'],\n",
    "['H4', 'Falsa', 'Baixa'],\n",
    "['H5', '-', '-'],\n",
    "['H6', 'Falsa', 'Baixa'],\n",
    "['H7', 'Falsa', 'Media'],\n",
    "['H8', 'Falsa', 'Alta'],\n",
    "['H9', 'Falsa', 'Alta'],\n",
    "['H10', 'Verdadeira', 'Alta'],\n",
    "['H11', 'Verdadeira', 'Alta'],\n",
    "['H12', 'Verdadeira', 'Baixa'],\n",
    "]\n",
    "print( tabulate( tab, headers='firstrow' ) )"
   ]
  },
  {
   "cell_type": "markdown",
   "id": "639b4338",
   "metadata": {},
   "source": [
    "## 4.3 Análise multivariada"
   ]
  },
  {
   "cell_type": "markdown",
   "id": "d0cace3a",
   "metadata": {},
   "source": [
    "### 4.3.1 Numerical Attributes"
   ]
  },
  {
   "cell_type": "code",
   "execution_count": null,
   "id": "0f940b9c",
   "metadata": {},
   "outputs": [],
   "source": [
    "# aqui apenas para olhar se temos variáveis numéricas\n",
    "num_attributes.head()"
   ]
  },
  {
   "cell_type": "code",
   "execution_count": null,
   "id": "0df80fb5",
   "metadata": {},
   "outputs": [],
   "source": [
    "# fazer correlação entre todas as variáveis\n",
    "# p.s Método de Pearson é para fazer a correlação entre duas variáveis numéricas \n",
    "correlation=num_attributes.corr(method=\"pearson\")\n",
    "sns.heatmap(correlation, annot=True);"
   ]
  },
  {
   "cell_type": "markdown",
   "id": "c1b27a86",
   "metadata": {},
   "source": [
    "### 4.3.2 Categorical Attributes"
   ]
  },
  {
   "cell_type": "code",
   "execution_count": null,
   "id": "607c120c",
   "metadata": {},
   "outputs": [],
   "source": [
    "# p.s Método de Cramer V é para fazer a correlação entre variáveis numéricas + categóricas ou entre variáveis categóricas\n",
    "# aqui para ver se só temos variáveis categóricas\n",
    "# aqui estou pegando o dataset da análise descritiva, então está defasado\n",
    "cat_attributes.head()"
   ]
  },
  {
   "cell_type": "code",
   "execution_count": null,
   "id": "ccac2d4a",
   "metadata": {},
   "outputs": [],
   "source": [
    "# para pegar o dataset mais atual, incluindo apenas variaveis q se apresentam como object\n",
    "# usaremos 3 colunas, o year se apresenta como object, mas ele é uma data\n",
    "a = df4.select_dtypes (include = \"object\")\n",
    "a.head()"
   ]
  },
  {
   "cell_type": "code",
   "execution_count": null,
   "id": "14d65022",
   "metadata": {},
   "outputs": [],
   "source": [
    "# como funciona, pega duas variáveis categóricas que queria fazer a correlação\n",
    "# monta uma tabela onde vc tem nas linhas o state holiday e nas counas o store type\n",
    "pd.crosstab(a[\"state_holiday\"],a[\"store_type\"])\n"
   ]
  },
  {
   "cell_type": "code",
   "execution_count": null,
   "id": "809b4f1c",
   "metadata": {
    "code_folding": [],
    "hide_input": false
   },
   "outputs": [],
   "source": [
    "# armazenando na variável cm\n",
    "cm = pd.crosstab(a[\"state_holiday\"],a[\"store_type\"]).to_numpy()\n"
   ]
  },
  {
   "cell_type": "code",
   "execution_count": null,
   "id": "10a485e8",
   "metadata": {
    "code_folding": [
     0
    ],
    "hide_input": false
   },
   "outputs": [],
   "source": [
    "# teste para validar as linhas estão pegando, basta trocar o nome da linha que quer ver\n",
    "# Basicamente uma matriz de confusão(cm) ou tabela de contingência\n",
    "a[(a[\"state_holiday\"] == \"christmas\") & (a[\"store_type\"] == \"a\")]\n"
   ]
  },
  {
   "cell_type": "code",
   "execution_count": null,
   "id": "3965e0e8",
   "metadata": {},
   "outputs": [],
   "source": [
    "# esse método já vem pronto para calcular, vem da biblioteca scipy\n",
    "chi2 = ss.chi2_contingency(cm)\n"
   ]
  },
  {
   "cell_type": "code",
   "execution_count": null,
   "id": "104f0213",
   "metadata": {
    "hide_input": false
   },
   "outputs": [],
   "source": [
    "# aqui estamos olhando o primeiro valor, de teste por isso colocou [0]\n",
    "# fórmula\n",
    "# vamos aplicar ela como uma função para aplicarmos mais de uma vez\n",
    "chi2 = ss.chi2_contingency(cm)[0]\n",
    "\n",
    "n = cm.sum() #soma de todos os valores, usando a matriz de confusão\n",
    "\n",
    "r,k =cm.shape #numero de linhas e colunas\n"
   ]
  },
  {
   "cell_type": "code",
   "execution_count": null,
   "id": "0f4ca2f5",
   "metadata": {
    "hide_input": false
   },
   "outputs": [],
   "source": [
    "# aqui vê a reposta, 4 resultados(1 teste, 2 p valor, 3 grau de liberdade 4 tabela de frequeência)\n",
    "chi2"
   ]
  },
  {
   "cell_type": "code",
   "execution_count": null,
   "id": "38e704ba",
   "metadata": {},
   "outputs": [],
   "source": [
    "# Cramer V divisão sobre dois termos (quiquadrado/n e menor valor entre a coluna e linha) (quiquadrado, n=total de observação, k=números de coluna, r=números de linha)\n",
    "# diferente do pearson que a correlação vai de -1 a 1, o v crame só vai de 0 a 1, não vemos correlação negativa\n",
    "v = np.sqrt ((chi2/n) / (min(k-1,r-1)))"
   ]
  },
  {
   "cell_type": "code",
   "execution_count": null,
   "id": "17acc99d",
   "metadata": {},
   "outputs": [],
   "source": [
    "v"
   ]
  },
  {
   "cell_type": "code",
   "execution_count": null,
   "id": "ae560ad3",
   "metadata": {},
   "outputs": [],
   "source": [
    "# aqui estamos olhando o primeiro valor, de teste por isso colocou [0]\n",
    "# fórmula\n",
    "# vamos aplicar ela como uma função para aplicarmos mais de uma vez\n",
    "def cramer_v(x,y):\n",
    "    cm = pd.crosstab(x,y).to_numpy()\n",
    "    n = cm.sum() #soma de todos os valores, usando a matriz de confusão\n",
    "    r,k =cm.shape #numero de linhas e colunas\n",
    "    chi2 = ss.chi2_contingency(cm)[0]\n",
    "    \n",
    "    chi2corr = max(0, chi2 - (k-1)+(r-1)/(n-1)) # p.s. cramer tem alto viés em relacnao ao estimador (precisa fazer uma correção por causa disso) tende a superestimar\n",
    "    kcorr = k - (k-1)**2/(n-1)\n",
    "    rcorr = r - (r-1)**2/(n-1)\n",
    "\n",
    "    \n",
    "    return np.sqrt((chi2corr/n) / (min(kcorr-1, rcorr-1)))\n",
    "  "
   ]
  },
  {
   "cell_type": "code",
   "execution_count": null,
   "id": "a0a02c62",
   "metadata": {},
   "outputs": [],
   "source": [
    "# fazendo uma tabela\n",
    "a1 = cramer_v( a['state_holiday'], a['state_holiday'] )\n",
    "a2 = cramer_v( a['state_holiday'], a['store_type'] )\n",
    "a3 = cramer_v( a['state_holiday'], a['assortment'] )\n",
    "a4 = cramer_v( a['store_type'], a['state_holiday'] )\n",
    "a5 = cramer_v( a['store_type'], a['store_type'] )\n",
    "a6 = cramer_v( a['store_type'], a['assortment'] )\n",
    "a7 = cramer_v( a['assortment'], a['state_holiday'] )\n",
    "a8 = cramer_v( a['assortment'], a['store_type'] )\n",
    "a9 = cramer_v( a['assortment'], a['assortment'] )\n",
    "\n",
    "d = pd.DataFrame( {'state_holiday': [a1, a2, a3],\n",
    "'store_type': [a4, a5, a6],\n",
    "'assortment': [a7, a8, a9] })\n",
    "d = d.set_index( d.columns )"
   ]
  },
  {
   "cell_type": "code",
   "execution_count": null,
   "id": "1929f1ee",
   "metadata": {},
   "outputs": [],
   "source": [
    "# correlacnao entre as variáveis categóricas\n",
    "sns.heatmap( d, annot=True )"
   ]
  },
  {
   "cell_type": "code",
   "execution_count": null,
   "id": "1bf27d70",
   "metadata": {},
   "outputs": [],
   "source": []
  }
 ],
 "metadata": {
  "kernelspec": {
   "display_name": "Python 3 (ipykernel)",
   "language": "python",
   "name": "python3"
  },
  "language_info": {
   "codemirror_mode": {
    "name": "ipython",
    "version": 3
   },
   "file_extension": ".py",
   "mimetype": "text/x-python",
   "name": "python",
   "nbconvert_exporter": "python",
   "pygments_lexer": "ipython3",
   "version": "3.8.8"
  }
 },
 "nbformat": 4,
 "nbformat_minor": 5
}
